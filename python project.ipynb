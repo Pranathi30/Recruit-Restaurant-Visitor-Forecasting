{
 "cells": [
  {
   "cell_type": "code",
   "execution_count": 1,
   "metadata": {},
   "outputs": [
    {
     "name": "stderr",
     "output_type": "stream",
     "text": [
      "C:\\ProgramData\\Anaconda3\\lib\\site-packages\\sklearn\\cross_validation.py:41: DeprecationWarning: This module was deprecated in version 0.18 in favor of the model_selection module into which all the refactored classes and functions are moved. Also note that the interface of the new CV iterators are different from that of this module. This module will be removed in 0.20.\n",
      "  \"This module will be removed in 0.20.\", DeprecationWarning)\n",
      "C:\\ProgramData\\Anaconda3\\lib\\site-packages\\sklearn\\grid_search.py:42: DeprecationWarning: This module was deprecated in version 0.18 in favor of the model_selection module into which all the refactored classes and functions are moved. This module will be removed in 0.20.\n",
      "  DeprecationWarning)\n",
      "C:\\ProgramData\\Anaconda3\\lib\\site-packages\\sklearn\\learning_curve.py:22: DeprecationWarning: This module was deprecated in version 0.18 in favor of the model_selection module into which all the functions are moved. This module will be removed in 0.20\n",
      "  DeprecationWarning)\n"
     ]
    }
   ],
   "source": [
    "import pandas as pd\n",
    "import numpy as np\n",
    "import matplotlib.pyplot as plt\n",
    "import seaborn as sns\n",
    "import datetime as dt\n",
    "\n",
    "from sklearn import preprocessing\n",
    "from sklearn import metrics\n",
    "from sklearn.preprocessing import LabelEncoder\n",
    "from sklearn import *\n",
    "from xgboost import XGBRegressor\n",
    "from pylab import *\n",
    "import glob, re\n",
    "%matplotlib inline"
   ]
  },
  {
   "cell_type": "code",
   "execution_count": 2,
   "metadata": {
    "collapsed": true
   },
   "outputs": [],
   "source": [
    "air_visit = pd.read_csv(\"air_visit_data.csv\")\n",
    "air_store = pd.read_csv(\"air_store_info.csv\")\n",
    "hpg_store = pd.read_csv(\"hpg_store_info.csv\")\n",
    "air_reserve = pd.read_csv(\"air_reserve.csv\")\n",
    "hpg_reserve = pd.read_csv(\"hpg_reserve.csv\")\n",
    "holidays = pd.read_csv(\"date_info.csv\")\n",
    "store_id = pd.read_csv(\"store_id_relation.csv\")\n",
    "test= pd.read_csv(\"sample_submission.csv\")"
   ]
  },
  {
   "cell_type": "code",
   "execution_count": 3,
   "metadata": {},
   "outputs": [
    {
     "data": {
      "text/html": [
       "<div>\n",
       "<style>\n",
       "    .dataframe thead tr:only-child th {\n",
       "        text-align: right;\n",
       "    }\n",
       "\n",
       "    .dataframe thead th {\n",
       "        text-align: left;\n",
       "    }\n",
       "\n",
       "    .dataframe tbody tr th {\n",
       "        vertical-align: top;\n",
       "    }\n",
       "</style>\n",
       "<table border=\"1\" class=\"dataframe\">\n",
       "  <thead>\n",
       "    <tr style=\"text-align: right;\">\n",
       "      <th></th>\n",
       "      <th>air_store_id</th>\n",
       "      <th>visit_date</th>\n",
       "      <th>visitors</th>\n",
       "    </tr>\n",
       "  </thead>\n",
       "  <tbody>\n",
       "    <tr>\n",
       "      <th>0</th>\n",
       "      <td>air_ba937bf13d40fb24</td>\n",
       "      <td>2016-01-13</td>\n",
       "      <td>25</td>\n",
       "    </tr>\n",
       "    <tr>\n",
       "      <th>1</th>\n",
       "      <td>air_ba937bf13d40fb24</td>\n",
       "      <td>2016-01-14</td>\n",
       "      <td>32</td>\n",
       "    </tr>\n",
       "    <tr>\n",
       "      <th>2</th>\n",
       "      <td>air_ba937bf13d40fb24</td>\n",
       "      <td>2016-01-15</td>\n",
       "      <td>29</td>\n",
       "    </tr>\n",
       "    <tr>\n",
       "      <th>3</th>\n",
       "      <td>air_ba937bf13d40fb24</td>\n",
       "      <td>2016-01-16</td>\n",
       "      <td>22</td>\n",
       "    </tr>\n",
       "    <tr>\n",
       "      <th>4</th>\n",
       "      <td>air_ba937bf13d40fb24</td>\n",
       "      <td>2016-01-18</td>\n",
       "      <td>6</td>\n",
       "    </tr>\n",
       "  </tbody>\n",
       "</table>\n",
       "</div>"
      ],
      "text/plain": [
       "           air_store_id  visit_date  visitors\n",
       "0  air_ba937bf13d40fb24  2016-01-13        25\n",
       "1  air_ba937bf13d40fb24  2016-01-14        32\n",
       "2  air_ba937bf13d40fb24  2016-01-15        29\n",
       "3  air_ba937bf13d40fb24  2016-01-16        22\n",
       "4  air_ba937bf13d40fb24  2016-01-18         6"
      ]
     },
     "execution_count": 3,
     "metadata": {},
     "output_type": "execute_result"
    }
   ],
   "source": [
    "air_visit.head()"
   ]
  },
  {
   "cell_type": "code",
   "execution_count": 4,
   "metadata": {},
   "outputs": [
    {
     "name": "stdout",
     "output_type": "stream",
     "text": [
      "<class 'pandas.core.frame.DataFrame'>\n",
      "RangeIndex: 252108 entries, 0 to 252107\n",
      "Data columns (total 3 columns):\n",
      "air_store_id    252108 non-null object\n",
      "visit_date      252108 non-null object\n",
      "visitors        252108 non-null int64\n",
      "dtypes: int64(1), object(2)\n",
      "memory usage: 5.8+ MB\n"
     ]
    }
   ],
   "source": [
    "air_visit.info()"
   ]
  },
  {
   "cell_type": "code",
   "execution_count": 5,
   "metadata": {
    "collapsed": true
   },
   "outputs": [],
   "source": [
    "air_visit_visitors_PerDay = pd.DataFrame(air_visit.groupby(\"visit_date\")[\"visitors\"].sum()).reset_index()\n",
    "air_visit_visitors_PerDay.index +=1"
   ]
  },
  {
   "cell_type": "code",
   "execution_count": 6,
   "metadata": {},
   "outputs": [
    {
     "data": {
      "text/html": [
       "<div>\n",
       "<style>\n",
       "    .dataframe thead tr:only-child th {\n",
       "        text-align: right;\n",
       "    }\n",
       "\n",
       "    .dataframe thead th {\n",
       "        text-align: left;\n",
       "    }\n",
       "\n",
       "    .dataframe tbody tr th {\n",
       "        vertical-align: top;\n",
       "    }\n",
       "</style>\n",
       "<table border=\"1\" class=\"dataframe\">\n",
       "  <thead>\n",
       "    <tr style=\"text-align: right;\">\n",
       "      <th></th>\n",
       "      <th>visit_date</th>\n",
       "      <th>visitors</th>\n",
       "    </tr>\n",
       "  </thead>\n",
       "  <tbody>\n",
       "    <tr>\n",
       "      <th>1</th>\n",
       "      <td>2016-01-01</td>\n",
       "      <td>1033</td>\n",
       "    </tr>\n",
       "    <tr>\n",
       "      <th>2</th>\n",
       "      <td>2016-01-02</td>\n",
       "      <td>1764</td>\n",
       "    </tr>\n",
       "    <tr>\n",
       "      <th>3</th>\n",
       "      <td>2016-01-03</td>\n",
       "      <td>2368</td>\n",
       "    </tr>\n",
       "    <tr>\n",
       "      <th>4</th>\n",
       "      <td>2016-01-04</td>\n",
       "      <td>3326</td>\n",
       "    </tr>\n",
       "    <tr>\n",
       "      <th>5</th>\n",
       "      <td>2016-01-05</td>\n",
       "      <td>3927</td>\n",
       "    </tr>\n",
       "  </tbody>\n",
       "</table>\n",
       "</div>"
      ],
      "text/plain": [
       "   visit_date  visitors\n",
       "1  2016-01-01      1033\n",
       "2  2016-01-02      1764\n",
       "3  2016-01-03      2368\n",
       "4  2016-01-04      3326\n",
       "5  2016-01-05      3927"
      ]
     },
     "execution_count": 6,
     "metadata": {},
     "output_type": "execute_result"
    }
   ],
   "source": [
    "air_visit_visitors_PerDay.head()"
   ]
  },
  {
   "cell_type": "code",
   "execution_count": 7,
   "metadata": {
    "collapsed": true
   },
   "outputs": [],
   "source": [
    "air_visit_visitors_PerDay[\"visit_date\"]=pd.to_datetime(air_visit_visitors_PerDay[\"visit_date\"])"
   ]
  },
  {
   "cell_type": "code",
   "execution_count": 8,
   "metadata": {},
   "outputs": [
    {
     "data": {
      "image/png": "[encoded data removed]",
      "text/plain": [
       "<matplotlib.figure.Figure at 0xff15c9e588>"
      ]
     },
     "metadata": {},
     "output_type": "display_data"
    },
    {
     "data": {
      "text/plain": [
       "<matplotlib.figure.Figure at 0xff15eccc50>"
      ]
     },
     "metadata": {},
     "output_type": "display_data"
    },
    {
     "data": {
      "text/plain": [
       "<matplotlib.figure.Figure at 0xff15eccfd0>"
      ]
     },
     "metadata": {},
     "output_type": "display_data"
    }
   ],
   "source": [
    "plt.plot(air_visit_visitors_PerDay[\"visit_date\"],air_visit_visitors_PerDay[\"visitors\"])\n",
    "\n",
    "plt.xlabel(\"visit-date\")\n",
    "plt.ylabel(\"visitors per day\")\n",
    "plt.title(\"All Visitors Per day From 23-April 2016 to 22-April 2017\")\n",
    "plt.figure(figsize=(100,100))\n",
    "plt.figure().subplots_adjust(bottom=0.2)\n",
    "plt.show()"
   ]
  },
  {
   "cell_type": "code",
   "execution_count": 9,
   "metadata": {},
   "outputs": [
    {
     "data": {
      "image/png": "[encoded data removed]",
      "text/plain": [
       "<matplotlib.figure.Figure at 0xff15f051d0>"
      ]
     },
     "metadata": {},
     "output_type": "display_data"
    }
   ],
   "source": [
    "plt.hist(air_visit_visitors_PerDay[\"visitors\"])\n",
    "plt.xlabel(\"visitors\")\n",
    "plt.ylabel(\"frequency\")\n",
    "plt.title(\"Histogram of all Visitors\")\n",
    "plt.show()"
   ]
  },
  {
   "cell_type": "code",
   "execution_count": 10,
   "metadata": {
    "collapsed": true
   },
   "outputs": [],
   "source": [
    "air_visit_visitors_PerDay[\"weekday\"]=air_visit_visitors_PerDay[\"visit_date\"].apply(lambda x: x.weekday())\n",
    "\n",
    "b =pd.DataFrame({\"week\" : [\"Monday\",\"Tuesday\",\"Wednesday\",\"Thursday\",\"Friday\",\"Saturday\",\"Sunday\"],\n",
    "\"weekday\" : [0,1,2,3,4,5,6]})\n",
    "b.index +=1"
   ]
  },
  {
   "cell_type": "code",
   "execution_count": 11,
   "metadata": {
    "collapsed": true
   },
   "outputs": [],
   "source": [
    "air_visit_visitors_PerDay= air_visit_visitors_PerDay.merge(b,on=\"weekday\")"
   ]
  },
  {
   "cell_type": "code",
   "execution_count": 12,
   "metadata": {
    "collapsed": true
   },
   "outputs": [],
   "source": [
    "x=pd.DataFrame(air_visit_visitors_PerDay.groupby(\"week\")[\"visitors\"].median()).reset_index()"
   ]
  },
  {
   "cell_type": "code",
   "execution_count": 13,
   "metadata": {},
   "outputs": [
    {
     "data": {
      "image/png": "[encoded data removed]",
      "text/plain": [
       "<matplotlib.figure.Figure at 0xff15f057f0>"
      ]
     },
     "metadata": {},
     "output_type": "display_data"
    }
   ],
   "source": [
    "plt.bar(x[\"week\"],x[\"visitors\"])\n",
    "plt.xlabel(\"Weekday\")\n",
    "plt.ylabel(\"visitors per weekday\")\n",
    "plt.title(\"All visitors per weekday\")\n",
    "plt.show()"
   ]
  },
  {
   "cell_type": "code",
   "execution_count": 14,
   "metadata": {
    "collapsed": true,
    "scrolled": true
   },
   "outputs": [],
   "source": [
    "air_visit_visitors_PerDay[\"month\"]=air_visit_visitors_PerDay[\"visit_date\"].dt.month\n",
    "c =pd.DataFrame({\"Month\" : [\"Jan\",\"Feb\",\"Mar\",\"Apr\",\"May\",\"Jun\",\"Jul\",\"Aug\",\"Sep\",\"Oct\",\"Nov\",\"Dec\"],\n",
    "\"month\" : [1,2,3,4,5,6,7,8,9,10,11,12]})\n",
    "c.index+=1\n",
    "air_visit_visitors_PerDay = air_visit_visitors_PerDay.merge(c)"
   ]
  },
  {
   "cell_type": "code",
   "execution_count": 15,
   "metadata": {
    "collapsed": true
   },
   "outputs": [],
   "source": [
    "del air_visit_visitors_PerDay[\"month\"]\n",
    "del air_visit_visitors_PerDay[\"weekday\"]\n"
   ]
  },
  {
   "cell_type": "code",
   "execution_count": 16,
   "metadata": {
    "collapsed": true
   },
   "outputs": [],
   "source": [
    "z=pd.DataFrame(air_visit_visitors_PerDay.groupby(\"Month\")[\"visitors\"].median()).reset_index()"
   ]
  },
  {
   "cell_type": "code",
   "execution_count": 17,
   "metadata": {},
   "outputs": [
    {
     "data": {
      "image/png": "[encoded data removed]",
      "text/plain": [
       "<matplotlib.figure.Figure at 0xff1607fa90>"
      ]
     },
     "metadata": {},
     "output_type": "display_data"
    }
   ],
   "source": [
    "plt.bar(z[\"Month\"],z[\"visitors\"])\n",
    "plt.xlabel(\"month\")\n",
    "plt.ylabel(\"visitors per month\")\n",
    "plt.title(\"All Visitors per Month\")\n",
    "plt.show()"
   ]
  },
  {
   "cell_type": "code",
   "execution_count": 18,
   "metadata": {
    "collapsed": true
   },
   "outputs": [],
   "source": [
    "air_visit_visitors_PerDay = air_visit_visitors_PerDay.set_index(\"visit_date\")\n"
   ]
  },
  {
   "cell_type": "code",
   "execution_count": 19,
   "metadata": {
    "collapsed": true
   },
   "outputs": [],
   "source": [
    "req_df = air_visit_visitors_PerDay.loc[\"2016-04-23\":\"2016-05-31\"]\n",
    "req_df = req_df.reset_index(level=0)\n",
    "req_df =req_df.sort_values(by=\"visit_date\")"
   ]
  },
  {
   "cell_type": "code",
   "execution_count": 20,
   "metadata": {},
   "outputs": [
    {
     "data": {
      "image/png": "[encoded data removed]",
      "text/plain": [
       "<matplotlib.figure.Figure at 0xff160bb898>"
      ]
     },
     "metadata": {},
     "output_type": "display_data"
    },
    {
     "data": {
      "text/plain": [
       "<matplotlib.figure.Figure at 0xff161a9908>"
      ]
     },
     "metadata": {},
     "output_type": "display_data"
    },
    {
     "data": {
      "text/plain": [
       "<matplotlib.figure.Figure at 0xff161a9cf8>"
      ]
     },
     "metadata": {},
     "output_type": "display_data"
    }
   ],
   "source": [
    "plt.plot(req_df[\"visit_date\"],req_df[\"visitors\"])\n",
    "plt.xlabel(\"visit-date\")\n",
    "plt.ylabel(\"all visitors\")\n",
    "plt.title(\"Visitors from 23-April 2016 to 31-May 2016\")\n",
    "plt.figure(figsize=(100,100))\n",
    "plt.figure().subplots_adjust(bottom=0.2)\n",
    "plt.show()"
   ]
  },
  {
   "cell_type": "markdown",
   "metadata": {},
   "source": [
    "# Air Reservations Data"
   ]
  },
  {
   "cell_type": "code",
   "execution_count": 21,
   "metadata": {},
   "outputs": [
    {
     "name": "stdout",
     "output_type": "stream",
     "text": [
      "<class 'pandas.core.frame.DataFrame'>\n",
      "RangeIndex: 92378 entries, 0 to 92377\n",
      "Data columns (total 4 columns):\n",
      "air_store_id        92378 non-null object\n",
      "visit_datetime      92378 non-null object\n",
      "reserve_datetime    92378 non-null object\n",
      "reserve_visitors    92378 non-null int64\n",
      "dtypes: int64(1), object(3)\n",
      "memory usage: 2.8+ MB\n"
     ]
    }
   ],
   "source": [
    "air_reserve.info()"
   ]
  },
  {
   "cell_type": "code",
   "execution_count": 22,
   "metadata": {
    "collapsed": true
   },
   "outputs": [],
   "source": [
    "air_reserve[\"visit_datetime\"] = pd.to_datetime(air_reserve[\"visit_datetime\"])"
   ]
  },
  {
   "cell_type": "code",
   "execution_count": 23,
   "metadata": {
    "collapsed": true,
    "scrolled": true
   },
   "outputs": [],
   "source": [
    "data = air_reserve[[\"visit_datetime\",\"reserve_visitors\"]]"
   ]
  },
  {
   "cell_type": "code",
   "execution_count": 24,
   "metadata": {
    "collapsed": true
   },
   "outputs": [],
   "source": [
    "data = data.set_index(\"visit_datetime\").resample(\"D\").sum()"
   ]
  },
  {
   "cell_type": "code",
   "execution_count": 25,
   "metadata": {
    "collapsed": true
   },
   "outputs": [],
   "source": [
    "data= data.reset_index()"
   ]
  },
  {
   "cell_type": "code",
   "execution_count": 26,
   "metadata": {},
   "outputs": [
    {
     "data": {
      "image/png": "[encoded data removed]",
      "text/plain": [
       "<matplotlib.figure.Figure at 0xff160cbf60>"
      ]
     },
     "metadata": {},
     "output_type": "display_data"
    },
    {
     "data": {
      "text/plain": [
       "<matplotlib.figure.Figure at 0xff161b0208>"
      ]
     },
     "metadata": {},
     "output_type": "display_data"
    }
   ],
   "source": [
    "plt.plot(data[\"visit_datetime\"],data[\"reserve_visitors\"])\n",
    "plt.xlabel(\"Visit-date\")\n",
    "plt.ylabel(\"All visitors\")\n",
    "plt.title(\"Visitors per Day in Air Reservations Data\")\n",
    "plt.figure(figsize=(100,100))\n",
    "\n",
    "plt.show()"
   ]
  },
  {
   "cell_type": "code",
   "execution_count": 27,
   "metadata": {
    "collapsed": true
   },
   "outputs": [],
   "source": [
    "air_reserve_1 = air_reserve[[\"visit_datetime\",\"reserve_visitors\"]]"
   ]
  },
  {
   "cell_type": "code",
   "execution_count": 28,
   "metadata": {},
   "outputs": [
    {
     "name": "stderr",
     "output_type": "stream",
     "text": [
      "C:\\ProgramData\\Anaconda3\\lib\\site-packages\\ipykernel_launcher.py:1: SettingWithCopyWarning: \n",
      "A value is trying to be set on a copy of a slice from a DataFrame.\n",
      "Try using .loc[row_indexer,col_indexer] = value instead\n",
      "\n",
      "See the caveats in the documentation: http://pandas.pydata.org/pandas-docs/stable/indexing.html#indexing-view-versus-copy\n",
      "  \"\"\"Entry point for launching an IPython kernel.\n"
     ]
    }
   ],
   "source": [
    "air_reserve_1[\"visit_hour\"] =  air_reserve_1.visit_datetime.dt.hour"
   ]
  },
  {
   "cell_type": "code",
   "execution_count": 29,
   "metadata": {},
   "outputs": [
    {
     "data": {
      "text/html": [
       "<div>\n",
       "<style>\n",
       "    .dataframe thead tr:only-child th {\n",
       "        text-align: right;\n",
       "    }\n",
       "\n",
       "    .dataframe thead th {\n",
       "        text-align: left;\n",
       "    }\n",
       "\n",
       "    .dataframe tbody tr th {\n",
       "        vertical-align: top;\n",
       "    }\n",
       "</style>\n",
       "<table border=\"1\" class=\"dataframe\">\n",
       "  <thead>\n",
       "    <tr style=\"text-align: right;\">\n",
       "      <th></th>\n",
       "      <th>visit_datetime</th>\n",
       "      <th>reserve_visitors</th>\n",
       "      <th>visit_hour</th>\n",
       "    </tr>\n",
       "  </thead>\n",
       "  <tbody>\n",
       "    <tr>\n",
       "      <th>0</th>\n",
       "      <td>2016-01-01 19:00:00</td>\n",
       "      <td>1</td>\n",
       "      <td>19</td>\n",
       "    </tr>\n",
       "    <tr>\n",
       "      <th>1</th>\n",
       "      <td>2016-01-01 19:00:00</td>\n",
       "      <td>3</td>\n",
       "      <td>19</td>\n",
       "    </tr>\n",
       "    <tr>\n",
       "      <th>2</th>\n",
       "      <td>2016-01-01 19:00:00</td>\n",
       "      <td>6</td>\n",
       "      <td>19</td>\n",
       "    </tr>\n",
       "    <tr>\n",
       "      <th>3</th>\n",
       "      <td>2016-01-01 20:00:00</td>\n",
       "      <td>2</td>\n",
       "      <td>20</td>\n",
       "    </tr>\n",
       "    <tr>\n",
       "      <th>4</th>\n",
       "      <td>2016-01-01 20:00:00</td>\n",
       "      <td>5</td>\n",
       "      <td>20</td>\n",
       "    </tr>\n",
       "  </tbody>\n",
       "</table>\n",
       "</div>"
      ],
      "text/plain": [
       "       visit_datetime  reserve_visitors  visit_hour\n",
       "0 2016-01-01 19:00:00                 1          19\n",
       "1 2016-01-01 19:00:00                 3          19\n",
       "2 2016-01-01 19:00:00                 6          19\n",
       "3 2016-01-01 20:00:00                 2          20\n",
       "4 2016-01-01 20:00:00                 5          20"
      ]
     },
     "execution_count": 29,
     "metadata": {},
     "output_type": "execute_result"
    }
   ],
   "source": [
    "air_reserve_1.head()"
   ]
  },
  {
   "cell_type": "code",
   "execution_count": 30,
   "metadata": {
    "collapsed": true
   },
   "outputs": [],
   "source": [
    "air_reserve_1_req = pd.DataFrame(air_reserve_1.groupby(\"visit_hour\")[\"reserve_visitors\"].sum())"
   ]
  },
  {
   "cell_type": "code",
   "execution_count": 31,
   "metadata": {
    "collapsed": true,
    "scrolled": true
   },
   "outputs": [],
   "source": [
    "air_reserve_1_req = air_reserve_1_req.reset_index()"
   ]
  },
  {
   "cell_type": "code",
   "execution_count": 32,
   "metadata": {},
   "outputs": [
    {
     "data": {
      "image/png": "[encoded data removed]",
      "text/plain": [
       "<matplotlib.figure.Figure at 0xff16105240>"
      ]
     },
     "metadata": {},
     "output_type": "display_data"
    }
   ],
   "source": [
    "plt.bar(air_reserve_1_req[\"visit_hour\"],air_reserve_1_req[\"reserve_visitors\"])\n",
    "plt.xlabel(\"Visit Hour\")\n",
    "plt.ylabel(\"visitors\")\n",
    "plt.title(\"Busy Times of a Day\")\n",
    "plt.show()"
   ]
  },
  {
   "cell_type": "code",
   "execution_count": 33,
   "metadata": {},
   "outputs": [
    {
     "data": {
      "text/html": [
       "<div>\n",
       "<style>\n",
       "    .dataframe thead tr:only-child th {\n",
       "        text-align: right;\n",
       "    }\n",
       "\n",
       "    .dataframe thead th {\n",
       "        text-align: left;\n",
       "    }\n",
       "\n",
       "    .dataframe tbody tr th {\n",
       "        vertical-align: top;\n",
       "    }\n",
       "</style>\n",
       "<table border=\"1\" class=\"dataframe\">\n",
       "  <thead>\n",
       "    <tr style=\"text-align: right;\">\n",
       "      <th></th>\n",
       "      <th>air_store_id</th>\n",
       "      <th>visit_datetime</th>\n",
       "      <th>reserve_datetime</th>\n",
       "      <th>reserve_visitors</th>\n",
       "    </tr>\n",
       "  </thead>\n",
       "  <tbody>\n",
       "    <tr>\n",
       "      <th>0</th>\n",
       "      <td>air_877f79706adbfb06</td>\n",
       "      <td>2016-01-01 19:00:00</td>\n",
       "      <td>2016-01-01 16:00:00</td>\n",
       "      <td>1</td>\n",
       "    </tr>\n",
       "    <tr>\n",
       "      <th>1</th>\n",
       "      <td>air_db4b38ebe7a7ceff</td>\n",
       "      <td>2016-01-01 19:00:00</td>\n",
       "      <td>2016-01-01 19:00:00</td>\n",
       "      <td>3</td>\n",
       "    </tr>\n",
       "    <tr>\n",
       "      <th>2</th>\n",
       "      <td>air_db4b38ebe7a7ceff</td>\n",
       "      <td>2016-01-01 19:00:00</td>\n",
       "      <td>2016-01-01 19:00:00</td>\n",
       "      <td>6</td>\n",
       "    </tr>\n",
       "    <tr>\n",
       "      <th>3</th>\n",
       "      <td>air_877f79706adbfb06</td>\n",
       "      <td>2016-01-01 20:00:00</td>\n",
       "      <td>2016-01-01 16:00:00</td>\n",
       "      <td>2</td>\n",
       "    </tr>\n",
       "    <tr>\n",
       "      <th>4</th>\n",
       "      <td>air_db80363d35f10926</td>\n",
       "      <td>2016-01-01 20:00:00</td>\n",
       "      <td>2016-01-01 01:00:00</td>\n",
       "      <td>5</td>\n",
       "    </tr>\n",
       "  </tbody>\n",
       "</table>\n",
       "</div>"
      ],
      "text/plain": [
       "           air_store_id      visit_datetime     reserve_datetime  \\\n",
       "0  air_877f79706adbfb06 2016-01-01 19:00:00  2016-01-01 16:00:00   \n",
       "1  air_db4b38ebe7a7ceff 2016-01-01 19:00:00  2016-01-01 19:00:00   \n",
       "2  air_db4b38ebe7a7ceff 2016-01-01 19:00:00  2016-01-01 19:00:00   \n",
       "3  air_877f79706adbfb06 2016-01-01 20:00:00  2016-01-01 16:00:00   \n",
       "4  air_db80363d35f10926 2016-01-01 20:00:00  2016-01-01 01:00:00   \n",
       "\n",
       "   reserve_visitors  \n",
       "0                 1  \n",
       "1                 3  \n",
       "2                 6  \n",
       "3                 2  \n",
       "4                 5  "
      ]
     },
     "execution_count": 33,
     "metadata": {},
     "output_type": "execute_result"
    }
   ],
   "source": [
    "air_reserve.head()"
   ]
  },
  {
   "cell_type": "code",
   "execution_count": 34,
   "metadata": {
    "collapsed": true
   },
   "outputs": [],
   "source": [
    "air_reserve[\"reserve_datetime\"]=pd.to_datetime(air_reserve[\"reserve_datetime\"])"
   ]
  },
  {
   "cell_type": "code",
   "execution_count": 35,
   "metadata": {},
   "outputs": [
    {
     "name": "stdout",
     "output_type": "stream",
     "text": [
      "<class 'pandas.core.frame.DataFrame'>\n",
      "RangeIndex: 92378 entries, 0 to 92377\n",
      "Data columns (total 4 columns):\n",
      "air_store_id        92378 non-null object\n",
      "visit_datetime      92378 non-null datetime64[ns]\n",
      "reserve_datetime    92378 non-null datetime64[ns]\n",
      "reserve_visitors    92378 non-null int64\n",
      "dtypes: datetime64[ns](2), int64(1), object(1)\n",
      "memory usage: 2.8+ MB\n"
     ]
    }
   ],
   "source": [
    "air_reserve.info()"
   ]
  },
  {
   "cell_type": "code",
   "execution_count": 36,
   "metadata": {
    "collapsed": true
   },
   "outputs": [],
   "source": [
    "air_reserve[\"timeDiff\"]=(air_reserve[\"visit_datetime\"]-air_reserve[\"reserve_datetime\"]).astype('timedelta64[h]')"
   ]
  },
  {
   "cell_type": "code",
   "execution_count": 37,
   "metadata": {
    "collapsed": true
   },
   "outputs": [],
   "source": [
    "air_reserve[\"days\"] = air_reserve[\"timeDiff\"]/24"
   ]
  },
  {
   "cell_type": "code",
   "execution_count": 38,
   "metadata": {},
   "outputs": [
    {
     "data": {
      "text/html": [
       "<div>\n",
       "<style>\n",
       "    .dataframe thead tr:only-child th {\n",
       "        text-align: right;\n",
       "    }\n",
       "\n",
       "    .dataframe thead th {\n",
       "        text-align: left;\n",
       "    }\n",
       "\n",
       "    .dataframe tbody tr th {\n",
       "        vertical-align: top;\n",
       "    }\n",
       "</style>\n",
       "<table border=\"1\" class=\"dataframe\">\n",
       "  <thead>\n",
       "    <tr style=\"text-align: right;\">\n",
       "      <th></th>\n",
       "      <th>air_store_id</th>\n",
       "      <th>visit_datetime</th>\n",
       "      <th>reserve_datetime</th>\n",
       "      <th>reserve_visitors</th>\n",
       "      <th>timeDiff</th>\n",
       "      <th>days</th>\n",
       "    </tr>\n",
       "  </thead>\n",
       "  <tbody>\n",
       "    <tr>\n",
       "      <th>50772</th>\n",
       "      <td>air_2a485b92210c98b5</td>\n",
       "      <td>2017-01-18 20:00:00</td>\n",
       "      <td>2016-01-14 23:00:00</td>\n",
       "      <td>2</td>\n",
       "      <td>8877.0</td>\n",
       "      <td>369.875000</td>\n",
       "    </tr>\n",
       "    <tr>\n",
       "      <th>50773</th>\n",
       "      <td>air_2a485b92210c98b5</td>\n",
       "      <td>2017-01-18 20:00:00</td>\n",
       "      <td>2016-01-15 13:00:00</td>\n",
       "      <td>3</td>\n",
       "      <td>8863.0</td>\n",
       "      <td>369.291667</td>\n",
       "    </tr>\n",
       "    <tr>\n",
       "      <th>50774</th>\n",
       "      <td>air_2a485b92210c98b5</td>\n",
       "      <td>2017-01-18 20:00:00</td>\n",
       "      <td>2016-01-03 12:00:00</td>\n",
       "      <td>4</td>\n",
       "      <td>9152.0</td>\n",
       "      <td>381.333333</td>\n",
       "    </tr>\n",
       "    <tr>\n",
       "      <th>50797</th>\n",
       "      <td>air_2a485b92210c98b5</td>\n",
       "      <td>2017-01-18 20:00:00</td>\n",
       "      <td>2016-01-18 08:00:00</td>\n",
       "      <td>2</td>\n",
       "      <td>8796.0</td>\n",
       "      <td>366.500000</td>\n",
       "    </tr>\n",
       "    <tr>\n",
       "      <th>50799</th>\n",
       "      <td>air_2a485b92210c98b5</td>\n",
       "      <td>2017-01-18 20:00:00</td>\n",
       "      <td>2016-01-17 18:00:00</td>\n",
       "      <td>2</td>\n",
       "      <td>8810.0</td>\n",
       "      <td>367.083333</td>\n",
       "    </tr>\n",
       "    <tr>\n",
       "      <th>50805</th>\n",
       "      <td>air_2a485b92210c98b5</td>\n",
       "      <td>2017-01-18 20:00:00</td>\n",
       "      <td>2016-01-02 20:00:00</td>\n",
       "      <td>2</td>\n",
       "      <td>9168.0</td>\n",
       "      <td>382.000000</td>\n",
       "    </tr>\n",
       "    <tr>\n",
       "      <th>50806</th>\n",
       "      <td>air_2a485b92210c98b5</td>\n",
       "      <td>2017-01-18 20:00:00</td>\n",
       "      <td>2016-01-06 17:00:00</td>\n",
       "      <td>20</td>\n",
       "      <td>9075.0</td>\n",
       "      <td>378.125000</td>\n",
       "    </tr>\n",
       "    <tr>\n",
       "      <th>50809</th>\n",
       "      <td>air_2a485b92210c98b5</td>\n",
       "      <td>2017-01-18 20:00:00</td>\n",
       "      <td>2016-01-02 21:00:00</td>\n",
       "      <td>6</td>\n",
       "      <td>9167.0</td>\n",
       "      <td>381.958333</td>\n",
       "    </tr>\n",
       "    <tr>\n",
       "      <th>50813</th>\n",
       "      <td>air_2a485b92210c98b5</td>\n",
       "      <td>2017-01-18 20:00:00</td>\n",
       "      <td>2016-01-05 16:00:00</td>\n",
       "      <td>2</td>\n",
       "      <td>9100.0</td>\n",
       "      <td>379.166667</td>\n",
       "    </tr>\n",
       "    <tr>\n",
       "      <th>50826</th>\n",
       "      <td>air_2a485b92210c98b5</td>\n",
       "      <td>2017-01-18 20:00:00</td>\n",
       "      <td>2016-01-02 00:00:00</td>\n",
       "      <td>4</td>\n",
       "      <td>9188.0</td>\n",
       "      <td>382.833333</td>\n",
       "    </tr>\n",
       "    <tr>\n",
       "      <th>52929</th>\n",
       "      <td>air_6b9fa44a9cf504a1</td>\n",
       "      <td>2017-01-23 20:00:00</td>\n",
       "      <td>2016-01-23 23:00:00</td>\n",
       "      <td>2</td>\n",
       "      <td>8781.0</td>\n",
       "      <td>365.875000</td>\n",
       "    </tr>\n",
       "    <tr>\n",
       "      <th>59135</th>\n",
       "      <td>air_e7fbee4e3cfe65c5</td>\n",
       "      <td>2017-02-07 19:00:00</td>\n",
       "      <td>2016-02-06 22:00:00</td>\n",
       "      <td>6</td>\n",
       "      <td>8805.0</td>\n",
       "      <td>366.875000</td>\n",
       "    </tr>\n",
       "    <tr>\n",
       "      <th>59138</th>\n",
       "      <td>air_e7fbee4e3cfe65c5</td>\n",
       "      <td>2017-02-07 19:00:00</td>\n",
       "      <td>2016-02-03 16:00:00</td>\n",
       "      <td>7</td>\n",
       "      <td>8883.0</td>\n",
       "      <td>370.125000</td>\n",
       "    </tr>\n",
       "    <tr>\n",
       "      <th>59139</th>\n",
       "      <td>air_e7fbee4e3cfe65c5</td>\n",
       "      <td>2017-02-07 19:00:00</td>\n",
       "      <td>2016-02-01 19:00:00</td>\n",
       "      <td>4</td>\n",
       "      <td>8928.0</td>\n",
       "      <td>372.000000</td>\n",
       "    </tr>\n",
       "    <tr>\n",
       "      <th>59141</th>\n",
       "      <td>air_e7fbee4e3cfe65c5</td>\n",
       "      <td>2017-02-07 19:00:00</td>\n",
       "      <td>2016-02-06 14:00:00</td>\n",
       "      <td>2</td>\n",
       "      <td>8813.0</td>\n",
       "      <td>367.208333</td>\n",
       "    </tr>\n",
       "    <tr>\n",
       "      <th>59152</th>\n",
       "      <td>air_e7fbee4e3cfe65c5</td>\n",
       "      <td>2017-02-07 19:00:00</td>\n",
       "      <td>2016-02-09 17:00:00</td>\n",
       "      <td>4</td>\n",
       "      <td>8738.0</td>\n",
       "      <td>364.083333</td>\n",
       "    </tr>\n",
       "    <tr>\n",
       "      <th>59154</th>\n",
       "      <td>air_e7fbee4e3cfe65c5</td>\n",
       "      <td>2017-02-07 19:00:00</td>\n",
       "      <td>2016-01-30 13:00:00</td>\n",
       "      <td>12</td>\n",
       "      <td>8982.0</td>\n",
       "      <td>374.250000</td>\n",
       "    </tr>\n",
       "    <tr>\n",
       "      <th>59161</th>\n",
       "      <td>air_e7fbee4e3cfe65c5</td>\n",
       "      <td>2017-02-07 19:00:00</td>\n",
       "      <td>2016-01-30 12:00:00</td>\n",
       "      <td>6</td>\n",
       "      <td>8983.0</td>\n",
       "      <td>374.291667</td>\n",
       "    </tr>\n",
       "    <tr>\n",
       "      <th>59166</th>\n",
       "      <td>air_e7fbee4e3cfe65c5</td>\n",
       "      <td>2017-02-07 19:00:00</td>\n",
       "      <td>2016-02-08 20:00:00</td>\n",
       "      <td>3</td>\n",
       "      <td>8759.0</td>\n",
       "      <td>364.958333</td>\n",
       "    </tr>\n",
       "    <tr>\n",
       "      <th>59173</th>\n",
       "      <td>air_e7fbee4e3cfe65c5</td>\n",
       "      <td>2017-02-07 19:00:00</td>\n",
       "      <td>2016-01-23 18:00:00</td>\n",
       "      <td>2</td>\n",
       "      <td>9145.0</td>\n",
       "      <td>381.041667</td>\n",
       "    </tr>\n",
       "    <tr>\n",
       "      <th>59176</th>\n",
       "      <td>air_e7fbee4e3cfe65c5</td>\n",
       "      <td>2017-02-07 19:00:00</td>\n",
       "      <td>2016-01-26 20:00:00</td>\n",
       "      <td>4</td>\n",
       "      <td>9071.0</td>\n",
       "      <td>377.958333</td>\n",
       "    </tr>\n",
       "    <tr>\n",
       "      <th>59183</th>\n",
       "      <td>air_e7fbee4e3cfe65c5</td>\n",
       "      <td>2017-02-07 19:00:00</td>\n",
       "      <td>2016-01-30 15:00:00</td>\n",
       "      <td>11</td>\n",
       "      <td>8980.0</td>\n",
       "      <td>374.166667</td>\n",
       "    </tr>\n",
       "    <tr>\n",
       "      <th>59186</th>\n",
       "      <td>air_e7fbee4e3cfe65c5</td>\n",
       "      <td>2017-02-07 19:00:00</td>\n",
       "      <td>2016-02-09 11:00:00</td>\n",
       "      <td>10</td>\n",
       "      <td>8744.0</td>\n",
       "      <td>364.333333</td>\n",
       "    </tr>\n",
       "    <tr>\n",
       "      <th>59190</th>\n",
       "      <td>air_e7fbee4e3cfe65c5</td>\n",
       "      <td>2017-02-07 19:00:00</td>\n",
       "      <td>2016-02-13 12:00:00</td>\n",
       "      <td>5</td>\n",
       "      <td>8647.0</td>\n",
       "      <td>360.291667</td>\n",
       "    </tr>\n",
       "    <tr>\n",
       "      <th>59191</th>\n",
       "      <td>air_e7fbee4e3cfe65c5</td>\n",
       "      <td>2017-02-07 19:00:00</td>\n",
       "      <td>2016-02-08 23:00:00</td>\n",
       "      <td>2</td>\n",
       "      <td>8756.0</td>\n",
       "      <td>364.833333</td>\n",
       "    </tr>\n",
       "    <tr>\n",
       "      <th>59192</th>\n",
       "      <td>air_e7fbee4e3cfe65c5</td>\n",
       "      <td>2017-02-07 19:00:00</td>\n",
       "      <td>2016-02-08 21:00:00</td>\n",
       "      <td>2</td>\n",
       "      <td>8758.0</td>\n",
       "      <td>364.916667</td>\n",
       "    </tr>\n",
       "    <tr>\n",
       "      <th>59196</th>\n",
       "      <td>air_e7fbee4e3cfe65c5</td>\n",
       "      <td>2017-02-07 19:00:00</td>\n",
       "      <td>2016-02-01 14:00:00</td>\n",
       "      <td>10</td>\n",
       "      <td>8933.0</td>\n",
       "      <td>372.208333</td>\n",
       "    </tr>\n",
       "    <tr>\n",
       "      <th>59197</th>\n",
       "      <td>air_e7fbee4e3cfe65c5</td>\n",
       "      <td>2017-02-07 19:00:00</td>\n",
       "      <td>2016-02-07 01:00:00</td>\n",
       "      <td>6</td>\n",
       "      <td>8802.0</td>\n",
       "      <td>366.750000</td>\n",
       "    </tr>\n",
       "    <tr>\n",
       "      <th>59200</th>\n",
       "      <td>air_e7fbee4e3cfe65c5</td>\n",
       "      <td>2017-02-07 19:00:00</td>\n",
       "      <td>2016-01-31 21:00:00</td>\n",
       "      <td>3</td>\n",
       "      <td>8950.0</td>\n",
       "      <td>372.916667</td>\n",
       "    </tr>\n",
       "    <tr>\n",
       "      <th>59208</th>\n",
       "      <td>air_e7fbee4e3cfe65c5</td>\n",
       "      <td>2017-02-07 19:00:00</td>\n",
       "      <td>2016-02-09 18:00:00</td>\n",
       "      <td>12</td>\n",
       "      <td>8737.0</td>\n",
       "      <td>364.041667</td>\n",
       "    </tr>\n",
       "    <tr>\n",
       "      <th>59211</th>\n",
       "      <td>air_e7fbee4e3cfe65c5</td>\n",
       "      <td>2017-02-07 19:00:00</td>\n",
       "      <td>2016-02-11 00:00:00</td>\n",
       "      <td>4</td>\n",
       "      <td>8707.0</td>\n",
       "      <td>362.791667</td>\n",
       "    </tr>\n",
       "    <tr>\n",
       "      <th>59257</th>\n",
       "      <td>air_e7fbee4e3cfe65c5</td>\n",
       "      <td>2017-02-07 20:00:00</td>\n",
       "      <td>2016-01-12 20:00:00</td>\n",
       "      <td>3</td>\n",
       "      <td>9408.0</td>\n",
       "      <td>392.000000</td>\n",
       "    </tr>\n",
       "    <tr>\n",
       "      <th>59258</th>\n",
       "      <td>air_e7fbee4e3cfe65c5</td>\n",
       "      <td>2017-02-07 20:00:00</td>\n",
       "      <td>2016-01-30 15:00:00</td>\n",
       "      <td>5</td>\n",
       "      <td>8981.0</td>\n",
       "      <td>374.208333</td>\n",
       "    </tr>\n",
       "    <tr>\n",
       "      <th>59259</th>\n",
       "      <td>air_e7fbee4e3cfe65c5</td>\n",
       "      <td>2017-02-07 20:00:00</td>\n",
       "      <td>2016-02-07 22:00:00</td>\n",
       "      <td>3</td>\n",
       "      <td>8782.0</td>\n",
       "      <td>365.916667</td>\n",
       "    </tr>\n",
       "    <tr>\n",
       "      <th>59260</th>\n",
       "      <td>air_e7fbee4e3cfe65c5</td>\n",
       "      <td>2017-02-07 20:00:00</td>\n",
       "      <td>2016-02-01 19:00:00</td>\n",
       "      <td>8</td>\n",
       "      <td>8929.0</td>\n",
       "      <td>372.041667</td>\n",
       "    </tr>\n",
       "    <tr>\n",
       "      <th>59261</th>\n",
       "      <td>air_e7fbee4e3cfe65c5</td>\n",
       "      <td>2017-02-07 20:00:00</td>\n",
       "      <td>2016-02-04 09:00:00</td>\n",
       "      <td>3</td>\n",
       "      <td>8867.0</td>\n",
       "      <td>369.458333</td>\n",
       "    </tr>\n",
       "    <tr>\n",
       "      <th>59262</th>\n",
       "      <td>air_e7fbee4e3cfe65c5</td>\n",
       "      <td>2017-02-07 20:00:00</td>\n",
       "      <td>2016-01-18 18:00:00</td>\n",
       "      <td>5</td>\n",
       "      <td>9266.0</td>\n",
       "      <td>386.083333</td>\n",
       "    </tr>\n",
       "    <tr>\n",
       "      <th>59263</th>\n",
       "      <td>air_e7fbee4e3cfe65c5</td>\n",
       "      <td>2017-02-07 20:00:00</td>\n",
       "      <td>2016-01-11 17:00:00</td>\n",
       "      <td>20</td>\n",
       "      <td>9435.0</td>\n",
       "      <td>393.125000</td>\n",
       "    </tr>\n",
       "    <tr>\n",
       "      <th>59264</th>\n",
       "      <td>air_e7fbee4e3cfe65c5</td>\n",
       "      <td>2017-02-07 20:00:00</td>\n",
       "      <td>2016-01-29 21:00:00</td>\n",
       "      <td>4</td>\n",
       "      <td>8999.0</td>\n",
       "      <td>374.958333</td>\n",
       "    </tr>\n",
       "    <tr>\n",
       "      <th>59265</th>\n",
       "      <td>air_e7fbee4e3cfe65c5</td>\n",
       "      <td>2017-02-07 20:00:00</td>\n",
       "      <td>2016-02-05 21:00:00</td>\n",
       "      <td>10</td>\n",
       "      <td>8831.0</td>\n",
       "      <td>367.958333</td>\n",
       "    </tr>\n",
       "    <tr>\n",
       "      <th>59266</th>\n",
       "      <td>air_e7fbee4e3cfe65c5</td>\n",
       "      <td>2017-02-07 20:00:00</td>\n",
       "      <td>2016-02-01 12:00:00</td>\n",
       "      <td>4</td>\n",
       "      <td>8936.0</td>\n",
       "      <td>372.333333</td>\n",
       "    </tr>\n",
       "    <tr>\n",
       "      <th>59267</th>\n",
       "      <td>air_e7fbee4e3cfe65c5</td>\n",
       "      <td>2017-02-07 20:00:00</td>\n",
       "      <td>2016-01-25 21:00:00</td>\n",
       "      <td>4</td>\n",
       "      <td>9095.0</td>\n",
       "      <td>378.958333</td>\n",
       "    </tr>\n",
       "    <tr>\n",
       "      <th>59268</th>\n",
       "      <td>air_e7fbee4e3cfe65c5</td>\n",
       "      <td>2017-02-07 20:00:00</td>\n",
       "      <td>2016-02-04 23:00:00</td>\n",
       "      <td>2</td>\n",
       "      <td>8853.0</td>\n",
       "      <td>368.875000</td>\n",
       "    </tr>\n",
       "    <tr>\n",
       "      <th>59269</th>\n",
       "      <td>air_e7fbee4e3cfe65c5</td>\n",
       "      <td>2017-02-07 20:00:00</td>\n",
       "      <td>2016-01-30 19:00:00</td>\n",
       "      <td>3</td>\n",
       "      <td>8977.0</td>\n",
       "      <td>374.041667</td>\n",
       "    </tr>\n",
       "    <tr>\n",
       "      <th>59270</th>\n",
       "      <td>air_e7fbee4e3cfe65c5</td>\n",
       "      <td>2017-02-07 20:00:00</td>\n",
       "      <td>2016-02-01 22:00:00</td>\n",
       "      <td>3</td>\n",
       "      <td>8926.0</td>\n",
       "      <td>371.916667</td>\n",
       "    </tr>\n",
       "    <tr>\n",
       "      <th>59271</th>\n",
       "      <td>air_e7fbee4e3cfe65c5</td>\n",
       "      <td>2017-02-07 20:00:00</td>\n",
       "      <td>2016-02-03 09:00:00</td>\n",
       "      <td>3</td>\n",
       "      <td>8891.0</td>\n",
       "      <td>370.458333</td>\n",
       "    </tr>\n",
       "    <tr>\n",
       "      <th>59272</th>\n",
       "      <td>air_e7fbee4e3cfe65c5</td>\n",
       "      <td>2017-02-07 20:00:00</td>\n",
       "      <td>2016-01-29 23:00:00</td>\n",
       "      <td>5</td>\n",
       "      <td>8997.0</td>\n",
       "      <td>374.875000</td>\n",
       "    </tr>\n",
       "    <tr>\n",
       "      <th>59273</th>\n",
       "      <td>air_e7fbee4e3cfe65c5</td>\n",
       "      <td>2017-02-07 20:00:00</td>\n",
       "      <td>2016-02-01 07:00:00</td>\n",
       "      <td>2</td>\n",
       "      <td>8941.0</td>\n",
       "      <td>372.541667</td>\n",
       "    </tr>\n",
       "    <tr>\n",
       "      <th>59274</th>\n",
       "      <td>air_e7fbee4e3cfe65c5</td>\n",
       "      <td>2017-02-07 20:00:00</td>\n",
       "      <td>2016-02-01 18:00:00</td>\n",
       "      <td>11</td>\n",
       "      <td>8930.0</td>\n",
       "      <td>372.083333</td>\n",
       "    </tr>\n",
       "    <tr>\n",
       "      <th>59275</th>\n",
       "      <td>air_e7fbee4e3cfe65c5</td>\n",
       "      <td>2017-02-07 20:00:00</td>\n",
       "      <td>2016-02-01 20:00:00</td>\n",
       "      <td>5</td>\n",
       "      <td>8928.0</td>\n",
       "      <td>372.000000</td>\n",
       "    </tr>\n",
       "  </tbody>\n",
       "</table>\n",
       "</div>"
      ],
      "text/plain": [
       "               air_store_id      visit_datetime    reserve_datetime  \\\n",
       "50772  air_2a485b92210c98b5 2017-01-18 20:00:00 2016-01-14 23:00:00   \n",
       "50773  air_2a485b92210c98b5 2017-01-18 20:00:00 2016-01-15 13:00:00   \n",
       "50774  air_2a485b92210c98b5 2017-01-18 20:00:00 2016-01-03 12:00:00   \n",
       "50797  air_2a485b92210c98b5 2017-01-18 20:00:00 2016-01-18 08:00:00   \n",
       "50799  air_2a485b92210c98b5 2017-01-18 20:00:00 2016-01-17 18:00:00   \n",
       "50805  air_2a485b92210c98b5 2017-01-18 20:00:00 2016-01-02 20:00:00   \n",
       "50806  air_2a485b92210c98b5 2017-01-18 20:00:00 2016-01-06 17:00:00   \n",
       "50809  air_2a485b92210c98b5 2017-01-18 20:00:00 2016-01-02 21:00:00   \n",
       "50813  air_2a485b92210c98b5 2017-01-18 20:00:00 2016-01-05 16:00:00   \n",
       "50826  air_2a485b92210c98b5 2017-01-18 20:00:00 2016-01-02 00:00:00   \n",
       "52929  air_6b9fa44a9cf504a1 2017-01-23 20:00:00 2016-01-23 23:00:00   \n",
       "59135  air_e7fbee4e3cfe65c5 2017-02-07 19:00:00 2016-02-06 22:00:00   \n",
       "59138  air_e7fbee4e3cfe65c5 2017-02-07 19:00:00 2016-02-03 16:00:00   \n",
       "59139  air_e7fbee4e3cfe65c5 2017-02-07 19:00:00 2016-02-01 19:00:00   \n",
       "59141  air_e7fbee4e3cfe65c5 2017-02-07 19:00:00 2016-02-06 14:00:00   \n",
       "59152  air_e7fbee4e3cfe65c5 2017-02-07 19:00:00 2016-02-09 17:00:00   \n",
       "59154  air_e7fbee4e3cfe65c5 2017-02-07 19:00:00 2016-01-30 13:00:00   \n",
       "59161  air_e7fbee4e3cfe65c5 2017-02-07 19:00:00 2016-01-30 12:00:00   \n",
       "59166  air_e7fbee4e3cfe65c5 2017-02-07 19:00:00 2016-02-08 20:00:00   \n",
       "59173  air_e7fbee4e3cfe65c5 2017-02-07 19:00:00 2016-01-23 18:00:00   \n",
       "59176  air_e7fbee4e3cfe65c5 2017-02-07 19:00:00 2016-01-26 20:00:00   \n",
       "59183  air_e7fbee4e3cfe65c5 2017-02-07 19:00:00 2016-01-30 15:00:00   \n",
       "59186  air_e7fbee4e3cfe65c5 2017-02-07 19:00:00 2016-02-09 11:00:00   \n",
       "59190  air_e7fbee4e3cfe65c5 2017-02-07 19:00:00 2016-02-13 12:00:00   \n",
       "59191  air_e7fbee4e3cfe65c5 2017-02-07 19:00:00 2016-02-08 23:00:00   \n",
       "59192  air_e7fbee4e3cfe65c5 2017-02-07 19:00:00 2016-02-08 21:00:00   \n",
       "59196  air_e7fbee4e3cfe65c5 2017-02-07 19:00:00 2016-02-01 14:00:00   \n",
       "59197  air_e7fbee4e3cfe65c5 2017-02-07 19:00:00 2016-02-07 01:00:00   \n",
       "59200  air_e7fbee4e3cfe65c5 2017-02-07 19:00:00 2016-01-31 21:00:00   \n",
       "59208  air_e7fbee4e3cfe65c5 2017-02-07 19:00:00 2016-02-09 18:00:00   \n",
       "59211  air_e7fbee4e3cfe65c5 2017-02-07 19:00:00 2016-02-11 00:00:00   \n",
       "59257  air_e7fbee4e3cfe65c5 2017-02-07 20:00:00 2016-01-12 20:00:00   \n",
       "59258  air_e7fbee4e3cfe65c5 2017-02-07 20:00:00 2016-01-30 15:00:00   \n",
       "59259  air_e7fbee4e3cfe65c5 2017-02-07 20:00:00 2016-02-07 22:00:00   \n",
       "59260  air_e7fbee4e3cfe65c5 2017-02-07 20:00:00 2016-02-01 19:00:00   \n",
       "59261  air_e7fbee4e3cfe65c5 2017-02-07 20:00:00 2016-02-04 09:00:00   \n",
       "59262  air_e7fbee4e3cfe65c5 2017-02-07 20:00:00 2016-01-18 18:00:00   \n",
       "59263  air_e7fbee4e3cfe65c5 2017-02-07 20:00:00 2016-01-11 17:00:00   \n",
       "59264  air_e7fbee4e3cfe65c5 2017-02-07 20:00:00 2016-01-29 21:00:00   \n",
       "59265  air_e7fbee4e3cfe65c5 2017-02-07 20:00:00 2016-02-05 21:00:00   \n",
       "59266  air_e7fbee4e3cfe65c5 2017-02-07 20:00:00 2016-02-01 12:00:00   \n",
       "59267  air_e7fbee4e3cfe65c5 2017-02-07 20:00:00 2016-01-25 21:00:00   \n",
       "59268  air_e7fbee4e3cfe65c5 2017-02-07 20:00:00 2016-02-04 23:00:00   \n",
       "59269  air_e7fbee4e3cfe65c5 2017-02-07 20:00:00 2016-01-30 19:00:00   \n",
       "59270  air_e7fbee4e3cfe65c5 2017-02-07 20:00:00 2016-02-01 22:00:00   \n",
       "59271  air_e7fbee4e3cfe65c5 2017-02-07 20:00:00 2016-02-03 09:00:00   \n",
       "59272  air_e7fbee4e3cfe65c5 2017-02-07 20:00:00 2016-01-29 23:00:00   \n",
       "59273  air_e7fbee4e3cfe65c5 2017-02-07 20:00:00 2016-02-01 07:00:00   \n",
       "59274  air_e7fbee4e3cfe65c5 2017-02-07 20:00:00 2016-02-01 18:00:00   \n",
       "59275  air_e7fbee4e3cfe65c5 2017-02-07 20:00:00 2016-02-01 20:00:00   \n",
       "\n",
       "       reserve_visitors  timeDiff        days  \n",
       "50772                 2    8877.0  369.875000  \n",
       "50773                 3    8863.0  369.291667  \n",
       "50774                 4    9152.0  381.333333  \n",
       "50797                 2    8796.0  366.500000  \n",
       "50799                 2    8810.0  367.083333  \n",
       "50805                 2    9168.0  382.000000  \n",
       "50806                20    9075.0  378.125000  \n",
       "50809                 6    9167.0  381.958333  \n",
       "50813                 2    9100.0  379.166667  \n",
       "50826                 4    9188.0  382.833333  \n",
       "52929                 2    8781.0  365.875000  \n",
       "59135                 6    8805.0  366.875000  \n",
       "59138                 7    8883.0  370.125000  \n",
       "59139                 4    8928.0  372.000000  \n",
       "59141                 2    8813.0  367.208333  \n",
       "59152                 4    8738.0  364.083333  \n",
       "59154                12    8982.0  374.250000  \n",
       "59161                 6    8983.0  374.291667  \n",
       "59166                 3    8759.0  364.958333  \n",
       "59173                 2    9145.0  381.041667  \n",
       "59176                 4    9071.0  377.958333  \n",
       "59183                11    8980.0  374.166667  \n",
       "59186                10    8744.0  364.333333  \n",
       "59190                 5    8647.0  360.291667  \n",
       "59191                 2    8756.0  364.833333  \n",
       "59192                 2    8758.0  364.916667  \n",
       "59196                10    8933.0  372.208333  \n",
       "59197                 6    8802.0  366.750000  \n",
       "59200                 3    8950.0  372.916667  \n",
       "59208                12    8737.0  364.041667  \n",
       "59211                 4    8707.0  362.791667  \n",
       "59257                 3    9408.0  392.000000  \n",
       "59258                 5    8981.0  374.208333  \n",
       "59259                 3    8782.0  365.916667  \n",
       "59260                 8    8929.0  372.041667  \n",
       "59261                 3    8867.0  369.458333  \n",
       "59262                 5    9266.0  386.083333  \n",
       "59263                20    9435.0  393.125000  \n",
       "59264                 4    8999.0  374.958333  \n",
       "59265                10    8831.0  367.958333  \n",
       "59266                 4    8936.0  372.333333  \n",
       "59267                 4    9095.0  378.958333  \n",
       "59268                 2    8853.0  368.875000  \n",
       "59269                 3    8977.0  374.041667  \n",
       "59270                 3    8926.0  371.916667  \n",
       "59271                 3    8891.0  370.458333  \n",
       "59272                 5    8997.0  374.875000  \n",
       "59273                 2    8941.0  372.541667  \n",
       "59274                11    8930.0  372.083333  \n",
       "59275                 5    8928.0  372.000000  "
      ]
     },
     "execution_count": 38,
     "metadata": {},
     "output_type": "execute_result"
    }
   ],
   "source": [
    "air_reserve[air_reserve[\"days\"] > 360]"
   ]
  },
  {
   "cell_type": "markdown",
   "metadata": {},
   "source": [
    "# HPG Reserve data"
   ]
  },
  {
   "cell_type": "code",
   "execution_count": 39,
   "metadata": {},
   "outputs": [
    {
     "data": {
      "image/png": "[encoded data removed]",
      "text/plain": [
       "<matplotlib.figure.Figure at 0xff160a6d30>"
      ]
     },
     "metadata": {},
     "output_type": "display_data"
    },
    {
     "data": {
      "text/plain": [
       "<matplotlib.figure.Figure at 0xff160b0d30>"
      ]
     },
     "metadata": {},
     "output_type": "display_data"
    }
   ],
   "source": [
    "hpg_reserve[\"visit_datetime\"] = pd.to_datetime(hpg_reserve[\"visit_datetime\"])\n",
    "data_2 = hpg_reserve[[\"visit_datetime\",\"reserve_visitors\"]]\n",
    "data_2 = data_2.set_index(\"visit_datetime\").resample(\"D\").sum()\n",
    "data_2= data_2.reset_index()\n",
    "plt.plot(data_2[\"visit_datetime\"],data_2[\"reserve_visitors\"])\n",
    "plt.xlabel(\"Visit-date\")\n",
    "plt.ylabel(\"All visitors\")\n",
    "plt.title(\"Visitors per Day in HPG Reservations Data\")\n",
    "plt.figure(figsize=(100,100))\n",
    "\n",
    "plt.show()"
   ]
  },
  {
   "cell_type": "code",
   "execution_count": 40,
   "metadata": {},
   "outputs": [
    {
     "name": "stderr",
     "output_type": "stream",
     "text": [
      "C:\\ProgramData\\Anaconda3\\lib\\site-packages\\ipykernel_launcher.py:2: SettingWithCopyWarning: \n",
      "A value is trying to be set on a copy of a slice from a DataFrame.\n",
      "Try using .loc[row_indexer,col_indexer] = value instead\n",
      "\n",
      "See the caveats in the documentation: http://pandas.pydata.org/pandas-docs/stable/indexing.html#indexing-view-versus-copy\n",
      "  \n"
     ]
    },
    {
     "data": {
      "image/png": "[encoded data removed]",
      "text/plain": [
       "<matplotlib.figure.Figure at 0xff15eae828>"
      ]
     },
     "metadata": {},
     "output_type": "display_data"
    }
   ],
   "source": [
    "hpg_reserve_1 = hpg_reserve[[\"visit_datetime\",\"reserve_visitors\"]]\n",
    "hpg_reserve_1[\"visit_hour\"] =  hpg_reserve_1.visit_datetime.dt.hour\n",
    "hpg_reserve_1_req = pd.DataFrame(hpg_reserve_1.groupby(\"visit_hour\")[\"reserve_visitors\"].sum())\n",
    "hpg_reserve_1_req = hpg_reserve_1_req.reset_index()\n",
    "plt.bar(hpg_reserve_1_req[\"visit_hour\"],hpg_reserve_1_req[\"reserve_visitors\"])\n",
    "plt.xlabel(\"Visit Hour\")\n",
    "plt.ylabel(\"visitors\")\n",
    "plt.title(\"Busy Times of a Day\")\n",
    "plt.show()"
   ]
  },
  {
   "cell_type": "code",
   "execution_count": 41,
   "metadata": {},
   "outputs": [
    {
     "data": {
      "text/html": [
       "<div>\n",
       "<style>\n",
       "    .dataframe thead tr:only-child th {\n",
       "        text-align: right;\n",
       "    }\n",
       "\n",
       "    .dataframe thead th {\n",
       "        text-align: left;\n",
       "    }\n",
       "\n",
       "    .dataframe tbody tr th {\n",
       "        vertical-align: top;\n",
       "    }\n",
       "</style>\n",
       "<table border=\"1\" class=\"dataframe\">\n",
       "  <thead>\n",
       "    <tr style=\"text-align: right;\">\n",
       "      <th></th>\n",
       "      <th>hpg_store_id</th>\n",
       "      <th>visit_datetime</th>\n",
       "      <th>reserve_datetime</th>\n",
       "      <th>reserve_visitors</th>\n",
       "      <th>timeDiff</th>\n",
       "      <th>days</th>\n",
       "    </tr>\n",
       "  </thead>\n",
       "  <tbody>\n",
       "    <tr>\n",
       "      <th>1605287</th>\n",
       "      <td>hpg_27220c59393af3ff</td>\n",
       "      <td>2017-02-23 19:00:00</td>\n",
       "      <td>2016-02-21 16:00:00</td>\n",
       "      <td>2</td>\n",
       "      <td>8835.0</td>\n",
       "      <td>368.125</td>\n",
       "    </tr>\n",
       "    <tr>\n",
       "      <th>1847912</th>\n",
       "      <td>hpg_f1e9bb84d62ac5e6</td>\n",
       "      <td>2017-04-01 19:00:00</td>\n",
       "      <td>2016-04-04 19:00:00</td>\n",
       "      <td>5</td>\n",
       "      <td>8688.0</td>\n",
       "      <td>362.000</td>\n",
       "    </tr>\n",
       "  </tbody>\n",
       "</table>\n",
       "</div>"
      ],
      "text/plain": [
       "                 hpg_store_id      visit_datetime    reserve_datetime  \\\n",
       "1605287  hpg_27220c59393af3ff 2017-02-23 19:00:00 2016-02-21 16:00:00   \n",
       "1847912  hpg_f1e9bb84d62ac5e6 2017-04-01 19:00:00 2016-04-04 19:00:00   \n",
       "\n",
       "         reserve_visitors  timeDiff     days  \n",
       "1605287                 2    8835.0  368.125  \n",
       "1847912                 5    8688.0  362.000  "
      ]
     },
     "execution_count": 41,
     "metadata": {},
     "output_type": "execute_result"
    }
   ],
   "source": [
    "hpg_reserve[\"reserve_datetime\"]=pd.to_datetime(hpg_reserve[\"reserve_datetime\"])\n",
    "hpg_reserve[\"timeDiff\"]=(hpg_reserve[\"visit_datetime\"]-hpg_reserve[\"reserve_datetime\"]).astype('timedelta64[h]')\n",
    "hpg_reserve[\"days\"] = hpg_reserve[\"timeDiff\"]/24\n",
    "hpg_reserve[hpg_reserve[\"days\"] > 360]"
   ]
  },
  {
   "cell_type": "markdown",
   "metadata": {},
   "source": [
    "# Air Store Data"
   ]
  },
  {
   "cell_type": "code",
   "execution_count": 42,
   "metadata": {},
   "outputs": [
    {
     "name": "stdout",
     "output_type": "stream",
     "text": [
      "<class 'pandas.core.frame.DataFrame'>\n",
      "RangeIndex: 829 entries, 0 to 828\n",
      "Data columns (total 5 columns):\n",
      "air_store_id      829 non-null object\n",
      "air_genre_name    829 non-null object\n",
      "air_area_name     829 non-null object\n",
      "latitude          829 non-null float64\n",
      "longitude         829 non-null float64\n",
      "dtypes: float64(2), object(3)\n",
      "memory usage: 32.5+ KB\n"
     ]
    }
   ],
   "source": [
    "air_store.info()"
   ]
  },
  {
   "cell_type": "code",
   "execution_count": 43,
   "metadata": {
    "collapsed": true
   },
   "outputs": [],
   "source": [
    "air_store_genreWise = pd.DataFrame(air_store.groupby(\"air_genre_name\")[\"air_store_id\"].count()).reset_index()\n",
    "air_store_genreWise.index+=1\n",
    "air_store_genreWise = air_store_genreWise.rename(columns={\"air_store_id\":\"noOfRest\"})\n",
    "air_store_genreWise = air_store_genreWise.sort_values(by=\"noOfRest\",ascending=False)"
   ]
  },
  {
   "cell_type": "code",
   "execution_count": 44,
   "metadata": {},
   "outputs": [
    {
     "data": {
      "image/png": "[encoded data removed]",
      "text/plain": [
       "<matplotlib.figure.Figure at 0xff15f32d68>"
      ]
     },
     "metadata": {},
     "output_type": "display_data"
    }
   ],
   "source": [
    "fig, ax = plt.subplots()\n",
    "error = np.random.rand(len(air_store_genreWise[\"air_genre_name\"]))\n",
    "y_pos = np.arange(len(air_store_genreWise[\"air_genre_name\"]))\n",
    "ax.barh(y_pos, air_store_genreWise[\"noOfRest\"], xerr=error, align='center',\n",
    "        color='green', ecolor='black')\n",
    "ax.set_yticks(y_pos)\n",
    "ax.set_yticklabels(air_store_genreWise[\"air_genre_name\"])\n",
    "ax.invert_yaxis()  # labels read top-to-bottom\n",
    "ax.set_xlabel('num of Restaurants')\n",
    "ax.set_title('Restaurants by Genre')\n",
    "\n",
    "plt.show()"
   ]
  },
  {
   "cell_type": "code",
   "execution_count": 45,
   "metadata": {
    "collapsed": true
   },
   "outputs": [],
   "source": [
    "air_store_areaWise = pd.DataFrame(air_store.groupby(\"air_area_name\")[\"air_store_id\"].count()).reset_index()\n",
    "air_store_areaWise.index+=1\n",
    "air_store_areaWise = air_store_areaWise.rename(columns={\"air_store_id\":\"noOfRest\"})\n",
    "air_store_areaWise=air_store_areaWise.sort_values(by=\"noOfRest\",ascending=False)[:16]"
   ]
  },
  {
   "cell_type": "code",
   "execution_count": 46,
   "metadata": {},
   "outputs": [
    {
     "data": {
      "image/png": "[encoded data removed]",
      "text/plain": [
       "<matplotlib.figure.Figure at 0xff161c1e80>"
      ]
     },
     "metadata": {},
     "output_type": "display_data"
    }
   ],
   "source": [
    "fig, ax = plt.subplots()\n",
    "error2 = np.random.rand(len(air_store_areaWise[\"air_area_name\"]))\n",
    "y_pos2 = np.arange(len(air_store_areaWise[\"air_area_name\"]))\n",
    "ax.barh(y_pos2, air_store_areaWise[\"noOfRest\"], xerr=error2, align='center',\n",
    "        color='green', ecolor='black')\n",
    "ax.set_yticks(y_pos2)\n",
    "ax.set_yticklabels(air_store_areaWise[\"air_area_name\"])\n",
    "ax.invert_yaxis()  # labels read top-to-bottom\n",
    "ax.set_xlabel('num of Restaurants')\n",
    "ax.set_title('Restaurants by Area')\n",
    "\n",
    "plt.show()"
   ]
  },
  {
   "cell_type": "code",
   "execution_count": 47,
   "metadata": {},
   "outputs": [
    {
     "data": {
      "text/html": [
       "<div>\n",
       "<style>\n",
       "    .dataframe thead tr:only-child th {\n",
       "        text-align: right;\n",
       "    }\n",
       "\n",
       "    .dataframe thead th {\n",
       "        text-align: left;\n",
       "    }\n",
       "\n",
       "    .dataframe tbody tr th {\n",
       "        vertical-align: top;\n",
       "    }\n",
       "</style>\n",
       "<table border=\"1\" class=\"dataframe\">\n",
       "  <thead>\n",
       "    <tr style=\"text-align: right;\">\n",
       "      <th></th>\n",
       "      <th>hpg_store_id</th>\n",
       "      <th>hpg_genre_name</th>\n",
       "      <th>hpg_area_name</th>\n",
       "      <th>latitude</th>\n",
       "      <th>longitude</th>\n",
       "    </tr>\n",
       "  </thead>\n",
       "  <tbody>\n",
       "    <tr>\n",
       "      <th>0</th>\n",
       "      <td>hpg_6622b62385aec8bf</td>\n",
       "      <td>Japanese style</td>\n",
       "      <td>Tōkyō-to Setagaya-ku Taishidō</td>\n",
       "      <td>35.643675</td>\n",
       "      <td>139.668221</td>\n",
       "    </tr>\n",
       "    <tr>\n",
       "      <th>1</th>\n",
       "      <td>hpg_e9e068dd49c5fa00</td>\n",
       "      <td>Japanese style</td>\n",
       "      <td>Tōkyō-to Setagaya-ku Taishidō</td>\n",
       "      <td>35.643675</td>\n",
       "      <td>139.668221</td>\n",
       "    </tr>\n",
       "    <tr>\n",
       "      <th>2</th>\n",
       "      <td>hpg_2976f7acb4b3a3bc</td>\n",
       "      <td>Japanese style</td>\n",
       "      <td>Tōkyō-to Setagaya-ku Taishidō</td>\n",
       "      <td>35.643675</td>\n",
       "      <td>139.668221</td>\n",
       "    </tr>\n",
       "    <tr>\n",
       "      <th>3</th>\n",
       "      <td>hpg_e51a522e098f024c</td>\n",
       "      <td>Japanese style</td>\n",
       "      <td>Tōkyō-to Setagaya-ku Taishidō</td>\n",
       "      <td>35.643675</td>\n",
       "      <td>139.668221</td>\n",
       "    </tr>\n",
       "    <tr>\n",
       "      <th>4</th>\n",
       "      <td>hpg_e3d0e1519894f275</td>\n",
       "      <td>Japanese style</td>\n",
       "      <td>Tōkyō-to Setagaya-ku Taishidō</td>\n",
       "      <td>35.643675</td>\n",
       "      <td>139.668221</td>\n",
       "    </tr>\n",
       "  </tbody>\n",
       "</table>\n",
       "</div>"
      ],
      "text/plain": [
       "           hpg_store_id  hpg_genre_name                  hpg_area_name  \\\n",
       "0  hpg_6622b62385aec8bf  Japanese style  Tōkyō-to Setagaya-ku Taishidō   \n",
       "1  hpg_e9e068dd49c5fa00  Japanese style  Tōkyō-to Setagaya-ku Taishidō   \n",
       "2  hpg_2976f7acb4b3a3bc  Japanese style  Tōkyō-to Setagaya-ku Taishidō   \n",
       "3  hpg_e51a522e098f024c  Japanese style  Tōkyō-to Setagaya-ku Taishidō   \n",
       "4  hpg_e3d0e1519894f275  Japanese style  Tōkyō-to Setagaya-ku Taishidō   \n",
       "\n",
       "    latitude   longitude  \n",
       "0  35.643675  139.668221  \n",
       "1  35.643675  139.668221  \n",
       "2  35.643675  139.668221  \n",
       "3  35.643675  139.668221  \n",
       "4  35.643675  139.668221  "
      ]
     },
     "execution_count": 47,
     "metadata": {},
     "output_type": "execute_result"
    }
   ],
   "source": [
    "hpg_store.head()"
   ]
  },
  {
   "cell_type": "code",
   "execution_count": 48,
   "metadata": {},
   "outputs": [
    {
     "data": {
      "image/png": "[encoded data removed]",
      "text/plain": [
       "<matplotlib.figure.Figure at 0xff161bc320>"
      ]
     },
     "metadata": {},
     "output_type": "display_data"
    }
   ],
   "source": [
    "hpg_store_genreWise = pd.DataFrame(hpg_store.groupby(\"hpg_genre_name\")[\"hpg_store_id\"].count()).reset_index()\n",
    "hpg_store_genreWise.index+=1\n",
    "hpg_store_genreWise = hpg_store_genreWise.rename(columns={\"hpg_store_id\":\"noOfRest\"})\n",
    "hpg_store_genreWise = hpg_store_genreWise.sort_values(by=\"noOfRest\",ascending=False)[:15]\n",
    "fig, ax = plt.subplots()\n",
    "error = np.random.rand(len(hpg_store_genreWise[\"hpg_genre_name\"]))\n",
    "y_pos = np.arange(len(hpg_store_genreWise[\"hpg_genre_name\"]))\n",
    "ax.barh(y_pos, hpg_store_genreWise[\"noOfRest\"], xerr=error, align='center',\n",
    "        color='green', ecolor='black')\n",
    "ax.set_yticks(y_pos)\n",
    "ax.set_yticklabels(hpg_store_genreWise[\"hpg_genre_name\"])\n",
    "ax.invert_yaxis()  # labels read top-to-bottom\n",
    "ax.set_xlabel('num of Restaurants')\n",
    "ax.set_title('Restaurants by Genre')\n",
    "\n",
    "plt.show()"
   ]
  },
  {
   "cell_type": "code",
   "execution_count": 49,
   "metadata": {},
   "outputs": [
    {
     "data": {
      "image/png": "[encoded data removed]",
      "text/plain": [
       "<matplotlib.figure.Figure at 0xff19cf8588>"
      ]
     },
     "metadata": {},
     "output_type": "display_data"
    }
   ],
   "source": [
    "hpg_store_areaWise = pd.DataFrame(hpg_store.groupby(\"hpg_area_name\")[\"hpg_store_id\"].count()).reset_index()\n",
    "hpg_store_areaWise.index+=1\n",
    "hpg_store_areaWise = hpg_store_areaWise.rename(columns={\"hpg_store_id\":\"noOfRest\"})\n",
    "hpg_store_areaWise=hpg_store_areaWise.sort_values(by=\"noOfRest\",ascending=False)[:20]\n",
    "fig, ax = plt.subplots()\n",
    "error2 = np.random.rand(len(hpg_store_areaWise[\"hpg_area_name\"]))\n",
    "y_pos2 = np.arange(len(hpg_store_areaWise[\"hpg_area_name\"]))\n",
    "ax.barh(y_pos2, hpg_store_areaWise[\"noOfRest\"], xerr=error2, align='center',\n",
    "        color='green', ecolor='black')\n",
    "ax.set_yticks(y_pos2)\n",
    "ax.set_yticklabels(hpg_store_areaWise[\"hpg_area_name\"])\n",
    "ax.invert_yaxis()  # labels read top-to-bottom\n",
    "ax.set_xlabel('num of Restaurants')\n",
    "ax.set_title('Restaurants by Area')\n",
    "\n",
    "plt.show()"
   ]
  },
  {
   "cell_type": "markdown",
   "metadata": {},
   "source": [
    "# Data Transformations"
   ]
  },
  {
   "cell_type": "code",
   "execution_count": 50,
   "metadata": {
    "collapsed": true
   },
   "outputs": [],
   "source": [
    "hpg_reserve = pd.merge(hpg_reserve, store_id, how='inner', on=['hpg_store_id'])\n"
   ]
  },
  {
   "cell_type": "code",
   "execution_count": 51,
   "metadata": {},
   "outputs": [
    {
     "data": {
      "text/html": [
       "<div>\n",
       "<style>\n",
       "    .dataframe thead tr:only-child th {\n",
       "        text-align: right;\n",
       "    }\n",
       "\n",
       "    .dataframe thead th {\n",
       "        text-align: left;\n",
       "    }\n",
       "\n",
       "    .dataframe tbody tr th {\n",
       "        vertical-align: top;\n",
       "    }\n",
       "</style>\n",
       "<table border=\"1\" class=\"dataframe\">\n",
       "  <thead>\n",
       "    <tr style=\"text-align: right;\">\n",
       "      <th></th>\n",
       "      <th>hpg_store_id</th>\n",
       "      <th>visit_datetime</th>\n",
       "      <th>reserve_datetime</th>\n",
       "      <th>reserve_visitors</th>\n",
       "      <th>timeDiff</th>\n",
       "      <th>days</th>\n",
       "      <th>air_store_id</th>\n",
       "    </tr>\n",
       "  </thead>\n",
       "  <tbody>\n",
       "    <tr>\n",
       "      <th>0</th>\n",
       "      <td>hpg_878cc70b1abc76f7</td>\n",
       "      <td>2016-01-01 19:00:00</td>\n",
       "      <td>2016-01-01 15:00:00</td>\n",
       "      <td>4</td>\n",
       "      <td>4.0</td>\n",
       "      <td>0.166667</td>\n",
       "      <td>air_db80363d35f10926</td>\n",
       "    </tr>\n",
       "    <tr>\n",
       "      <th>1</th>\n",
       "      <td>hpg_878cc70b1abc76f7</td>\n",
       "      <td>2016-01-02 19:00:00</td>\n",
       "      <td>2016-01-02 14:00:00</td>\n",
       "      <td>2</td>\n",
       "      <td>5.0</td>\n",
       "      <td>0.208333</td>\n",
       "      <td>air_db80363d35f10926</td>\n",
       "    </tr>\n",
       "    <tr>\n",
       "      <th>2</th>\n",
       "      <td>hpg_878cc70b1abc76f7</td>\n",
       "      <td>2016-01-03 18:00:00</td>\n",
       "      <td>2016-01-02 20:00:00</td>\n",
       "      <td>6</td>\n",
       "      <td>22.0</td>\n",
       "      <td>0.916667</td>\n",
       "      <td>air_db80363d35f10926</td>\n",
       "    </tr>\n",
       "    <tr>\n",
       "      <th>3</th>\n",
       "      <td>hpg_878cc70b1abc76f7</td>\n",
       "      <td>2016-01-06 20:00:00</td>\n",
       "      <td>2016-01-04 22:00:00</td>\n",
       "      <td>3</td>\n",
       "      <td>46.0</td>\n",
       "      <td>1.916667</td>\n",
       "      <td>air_db80363d35f10926</td>\n",
       "    </tr>\n",
       "    <tr>\n",
       "      <th>4</th>\n",
       "      <td>hpg_878cc70b1abc76f7</td>\n",
       "      <td>2016-01-11 18:00:00</td>\n",
       "      <td>2016-01-11 14:00:00</td>\n",
       "      <td>2</td>\n",
       "      <td>4.0</td>\n",
       "      <td>0.166667</td>\n",
       "      <td>air_db80363d35f10926</td>\n",
       "    </tr>\n",
       "  </tbody>\n",
       "</table>\n",
       "</div>"
      ],
      "text/plain": [
       "           hpg_store_id      visit_datetime    reserve_datetime  \\\n",
       "0  hpg_878cc70b1abc76f7 2016-01-01 19:00:00 2016-01-01 15:00:00   \n",
       "1  hpg_878cc70b1abc76f7 2016-01-02 19:00:00 2016-01-02 14:00:00   \n",
       "2  hpg_878cc70b1abc76f7 2016-01-03 18:00:00 2016-01-02 20:00:00   \n",
       "3  hpg_878cc70b1abc76f7 2016-01-06 20:00:00 2016-01-04 22:00:00   \n",
       "4  hpg_878cc70b1abc76f7 2016-01-11 18:00:00 2016-01-11 14:00:00   \n",
       "\n",
       "   reserve_visitors  timeDiff      days          air_store_id  \n",
       "0                 4       4.0  0.166667  air_db80363d35f10926  \n",
       "1                 2       5.0  0.208333  air_db80363d35f10926  \n",
       "2                 6      22.0  0.916667  air_db80363d35f10926  \n",
       "3                 3      46.0  1.916667  air_db80363d35f10926  \n",
       "4                 2       4.0  0.166667  air_db80363d35f10926  "
      ]
     },
     "execution_count": 51,
     "metadata": {},
     "output_type": "execute_result"
    }
   ],
   "source": [
    "hpg_reserve.head()"
   ]
  },
  {
   "cell_type": "markdown",
   "metadata": {},
   "source": [
    "converted to datetime, found out the no of days between reservation and visiting,created a dataframe t1 consisting of sum of  diff in days for every store id and visit data and created a dataframe  t2 consisting of mean of days diff and visitors diff for every air store id and visit date and combined t1 and t2"
   ]
  },
  {
   "cell_type": "code",
   "execution_count": 52,
   "metadata": {
    "collapsed": true
   },
   "outputs": [],
   "source": [
    "air_reserve[\"visit_datetime\"]= pd.to_datetime(air_reserve[\"visit_datetime\"])\n",
    "air_reserve[\"visit_datetime\"] = air_reserve[\"visit_datetime\"].dt.date\n",
    "air_reserve[\"reserve_datetime\"]= pd.to_datetime(air_reserve[\"reserve_datetime\"])\n",
    "air_reserve[\"reserve_datetime\"] = air_reserve[\"reserve_datetime\"].dt.date\n",
    "air_reserve[\"reserve_datetime_diff\"]= air_reserve.apply(lambda r: (r[\"visit_datetime\"]-r[\"reserve_datetime\"]).days,axis=1)\n",
    "t1 = air_reserve.groupby([\"air_store_id\",\"visit_datetime\"],as_index=False)[[\"reserve_datetime_diff\",\"reserve_visitors\"]].sum().rename(columns={\"visit_datetime\":\"visit_date\",\"reserve_datetime_diff\":\"rs1\",\"reserve_visitors\":\"rv1\"})\n",
    "t2 = air_reserve.groupby([\"air_store_id\",\"visit_datetime\"],as_index=False)[[\"reserve_datetime_diff\",\"reserve_visitors\"]].mean().rename(columns={\"visit_datetime\":\"visit_date\",\"reserve_datetime_diff\":\"rs2\",\"reserve_visitors\":\"rv2\"})\n",
    "air_reserve = pd.merge(t1,t2,how=\"inner\",on=[\"air_store_id\",\"visit_date\"])"
   ]
  },
  {
   "cell_type": "code",
   "execution_count": 53,
   "metadata": {},
   "outputs": [
    {
     "data": {
      "text/html": [
       "<div>\n",
       "<style>\n",
       "    .dataframe thead tr:only-child th {\n",
       "        text-align: right;\n",
       "    }\n",
       "\n",
       "    .dataframe thead th {\n",
       "        text-align: left;\n",
       "    }\n",
       "\n",
       "    .dataframe tbody tr th {\n",
       "        vertical-align: top;\n",
       "    }\n",
       "</style>\n",
       "<table border=\"1\" class=\"dataframe\">\n",
       "  <thead>\n",
       "    <tr style=\"text-align: right;\">\n",
       "      <th></th>\n",
       "      <th>air_store_id</th>\n",
       "      <th>visit_date</th>\n",
       "      <th>rs1</th>\n",
       "      <th>rv1</th>\n",
       "      <th>rs2</th>\n",
       "      <th>rv2</th>\n",
       "    </tr>\n",
       "  </thead>\n",
       "  <tbody>\n",
       "    <tr>\n",
       "      <th>0</th>\n",
       "      <td>air_00a91d42b08b08d9</td>\n",
       "      <td>2016-10-31</td>\n",
       "      <td>0</td>\n",
       "      <td>2</td>\n",
       "      <td>0.0</td>\n",
       "      <td>2.0</td>\n",
       "    </tr>\n",
       "    <tr>\n",
       "      <th>1</th>\n",
       "      <td>air_00a91d42b08b08d9</td>\n",
       "      <td>2016-12-05</td>\n",
       "      <td>4</td>\n",
       "      <td>9</td>\n",
       "      <td>4.0</td>\n",
       "      <td>9.0</td>\n",
       "    </tr>\n",
       "    <tr>\n",
       "      <th>2</th>\n",
       "      <td>air_00a91d42b08b08d9</td>\n",
       "      <td>2016-12-14</td>\n",
       "      <td>6</td>\n",
       "      <td>18</td>\n",
       "      <td>6.0</td>\n",
       "      <td>18.0</td>\n",
       "    </tr>\n",
       "    <tr>\n",
       "      <th>3</th>\n",
       "      <td>air_00a91d42b08b08d9</td>\n",
       "      <td>2016-12-17</td>\n",
       "      <td>6</td>\n",
       "      <td>2</td>\n",
       "      <td>6.0</td>\n",
       "      <td>2.0</td>\n",
       "    </tr>\n",
       "    <tr>\n",
       "      <th>4</th>\n",
       "      <td>air_00a91d42b08b08d9</td>\n",
       "      <td>2016-12-20</td>\n",
       "      <td>2</td>\n",
       "      <td>4</td>\n",
       "      <td>2.0</td>\n",
       "      <td>4.0</td>\n",
       "    </tr>\n",
       "  </tbody>\n",
       "</table>\n",
       "</div>"
      ],
      "text/plain": [
       "           air_store_id  visit_date  rs1  rv1  rs2   rv2\n",
       "0  air_00a91d42b08b08d9  2016-10-31    0    2  0.0   2.0\n",
       "1  air_00a91d42b08b08d9  2016-12-05    4    9  4.0   9.0\n",
       "2  air_00a91d42b08b08d9  2016-12-14    6   18  6.0  18.0\n",
       "3  air_00a91d42b08b08d9  2016-12-17    6    2  6.0   2.0\n",
       "4  air_00a91d42b08b08d9  2016-12-20    2    4  2.0   4.0"
      ]
     },
     "execution_count": 53,
     "metadata": {},
     "output_type": "execute_result"
    }
   ],
   "source": [
    "air_reserve.head()"
   ]
  },
  {
   "cell_type": "code",
   "execution_count": 54,
   "metadata": {
    "collapsed": true
   },
   "outputs": [],
   "source": [
    "hpg_reserve[\"visit_datetime\"]= pd.to_datetime(hpg_reserve[\"visit_datetime\"])\n",
    "hpg_reserve[\"visit_datetime\"] = hpg_reserve[\"visit_datetime\"].dt.date\n",
    "hpg_reserve[\"reserve_datetime\"]= pd.to_datetime(hpg_reserve[\"reserve_datetime\"])\n",
    "hpg_reserve[\"reserve_datetime\"] = hpg_reserve[\"reserve_datetime\"].dt.date\n",
    "hpg_reserve[\"reserve_datetime_diff\"]= hpg_reserve.apply(lambda r: (r[\"visit_datetime\"]-r[\"reserve_datetime\"]).days,axis=1)\n",
    "t11 = hpg_reserve.groupby([\"air_store_id\",\"visit_datetime\"],as_index=False)[[\"reserve_datetime_diff\",\"reserve_visitors\"]].sum().rename(columns={\"visit_datetime\":\"visit_date\",\"reserve_datetime_diff\":\"rs1\",\"reserve_visitors\":\"rv1\"})\n",
    "t22 = hpg_reserve.groupby([\"air_store_id\",\"visit_datetime\"],as_index=False)[[\"reserve_datetime_diff\",\"reserve_visitors\"]].mean().rename(columns={\"visit_datetime\":\"visit_date\",\"reserve_datetime_diff\":\"rs2\",\"reserve_visitors\":\"rv2\"})\n",
    "hpg_reserve = pd.merge(t11,t22,how=\"inner\",on=[\"air_store_id\",\"visit_date\"])"
   ]
  },
  {
   "cell_type": "code",
   "execution_count": 55,
   "metadata": {
    "collapsed": true
   },
   "outputs": [],
   "source": [
    "air_visit_1 = pd.read_csv(\"air_visit_data.csv\")\n"
   ]
  },
  {
   "cell_type": "code",
   "execution_count": 56,
   "metadata": {
    "collapsed": true
   },
   "outputs": [],
   "source": [
    "air_visit_1[\"visit_date\"] = pd.to_datetime(air_visit_1[\"visit_date\"])\n",
    "air_visit_1['DayofWeek'] = air_visit_1['visit_date'].dt.dayofweek\n",
    "air_visit_1['year'] = air_visit_1['visit_date'].dt.year\n",
    "air_visit_1['month'] = air_visit_1['visit_date'].dt.month\n",
    "air_visit_1['visit_date'] = air_visit_1['visit_date'].dt.date"
   ]
  },
  {
   "cell_type": "code",
   "execution_count": 57,
   "metadata": {
    "collapsed": true
   },
   "outputs": [],
   "source": [
    "test[\"visit_date\"]=test[\"id\"].map(lambda x: str(x).split(\"_\")[2])\n",
    "test[\"air_store_id\"]=test[\"id\"].map(lambda x: \"_\".join(x.split(\"_\")[:2]))\n",
    "test[\"visit_date\"] = pd.to_datetime(test[\"visit_date\"])\n",
    "test[\"DayofWeek\"] = test[\"visit_date\"].dt.dayofweek\n",
    "test[\"year\"] = test[\"visit_date\"].dt.year\n",
    "test[\"month\"] = test[\"visit_date\"].dt.month\n",
    "test[\"visit_date\"] = test[\"visit_date\"].dt.date"
   ]
  },
  {
   "cell_type": "code",
   "execution_count": 58,
   "metadata": {
    "collapsed": true
   },
   "outputs": [],
   "source": [
    "distinct_stores=test[\"air_store_id\"].unique()\n",
    "stores=pd.concat([pd.DataFrame({\"air_store_id\":distinct_stores,\"DayofWeek\":[i]*len(distinct_stores)}) for i in range(7)],axis=0,ignore_index=True).reset_index(drop=True)"
   ]
  },
  {
   "cell_type": "code",
   "execution_count": 59,
   "metadata": {
    "collapsed": true
   },
   "outputs": [],
   "source": [
    "t = air_visit_1.groupby([\"air_store_id\",\"DayofWeek\"],as_index=False)[\"visitors\"].min().rename(columns={\"visitors\":\"min_visitors\"})\n",
    "stores=pd.merge(stores,t,how=\"left\",on=[\"air_store_id\",\"DayofWeek\"])\n",
    "\n",
    "t = air_visit_1.groupby([\"air_store_id\",\"DayofWeek\"],as_index=False)[\"visitors\"].mean().rename(columns={\"visitors\":\"mean_visitors\"})\n",
    "stores= pd.merge(stores,t,how=\"left\",on=[\"air_store_id\",\"DayofWeek\"])\n",
    "\n",
    "t = air_visit_1.groupby([\"air_store_id\",\"DayofWeek\"],as_index=False)[\"visitors\"].median().rename(columns={\"visitors\":\"median_visitors\"})\n",
    "stores= pd.merge(stores,t,how=\"left\",on=[\"air_store_id\",\"DayofWeek\"])\n",
    "\n",
    "t = air_visit_1.groupby([\"air_store_id\",\"DayofWeek\"],as_index=False)[\"visitors\"].max().rename(columns={\"visitors\":\"max_visitors\"})\n",
    "stores= pd.merge(stores,t,how=\"left\",on=[\"air_store_id\",\"DayofWeek\"])\n",
    "\n",
    "t = air_visit_1.groupby([\"air_store_id\",\"DayofWeek\"],as_index=False)[\"visitors\"].count().rename(columns={\"visitors\":\"count_visitors\"})\n",
    "stores= pd.merge(stores,t,how=\"left\",on=[\"air_store_id\",\"DayofWeek\"])\n",
    "\n",
    "k2 = air_visit_1.groupby([\"air_store_id\"]).agg({\"visitors\":[np.mean,np.std]}).reset_index()\n",
    "k2.columns=[\"air_store_id\",\"mean_visitorso\",\"std_devo\"]\n",
    "stores=pd.merge(stores,k2,how=\"left\",on=[\"air_store_id\"])\n",
    "stores=pd.merge(stores,air_store,how=\"left\",on=[\"air_store_id\"])"
   ]
  },
  {
   "cell_type": "markdown",
   "metadata": {},
   "source": [
    "# New Features"
   ]
  },
  {
   "cell_type": "code",
   "execution_count": 60,
   "metadata": {},
   "outputs": [
    {
     "data": {
      "text/html": [
       "<div>\n",
       "<style>\n",
       "    .dataframe thead tr:only-child th {\n",
       "        text-align: right;\n",
       "    }\n",
       "\n",
       "    .dataframe thead th {\n",
       "        text-align: left;\n",
       "    }\n",
       "\n",
       "    .dataframe tbody tr th {\n",
       "        vertical-align: top;\n",
       "    }\n",
       "</style>\n",
       "<table border=\"1\" class=\"dataframe\">\n",
       "  <thead>\n",
       "    <tr style=\"text-align: right;\">\n",
       "      <th></th>\n",
       "      <th>DayofWeek</th>\n",
       "      <th>air_store_id</th>\n",
       "      <th>min_visitors</th>\n",
       "      <th>mean_visitors</th>\n",
       "      <th>median_visitors</th>\n",
       "      <th>max_visitors</th>\n",
       "      <th>count_visitors</th>\n",
       "      <th>mean_visitorso</th>\n",
       "      <th>std_devo</th>\n",
       "      <th>air_genre_name</th>\n",
       "      <th>air_area_name</th>\n",
       "      <th>latitude</th>\n",
       "      <th>longitude</th>\n",
       "    </tr>\n",
       "  </thead>\n",
       "  <tbody>\n",
       "    <tr>\n",
       "      <th>0</th>\n",
       "      <td>0</td>\n",
       "      <td>air_00a91d42b08b08d9</td>\n",
       "      <td>1.0</td>\n",
       "      <td>22.457143</td>\n",
       "      <td>19.0</td>\n",
       "      <td>47.0</td>\n",
       "      <td>35.0</td>\n",
       "      <td>26.081897</td>\n",
       "      <td>12.435364</td>\n",
       "      <td>Italian/French</td>\n",
       "      <td>Tōkyō-to Chiyoda-ku Kudanminami</td>\n",
       "      <td>35.694003</td>\n",
       "      <td>139.753595</td>\n",
       "    </tr>\n",
       "    <tr>\n",
       "      <th>1</th>\n",
       "      <td>0</td>\n",
       "      <td>air_0164b9927d20bcc3</td>\n",
       "      <td>2.0</td>\n",
       "      <td>7.500000</td>\n",
       "      <td>6.0</td>\n",
       "      <td>19.0</td>\n",
       "      <td>20.0</td>\n",
       "      <td>9.248322</td>\n",
       "      <td>6.348980</td>\n",
       "      <td>Italian/French</td>\n",
       "      <td>Tōkyō-to Minato-ku Shibakōen</td>\n",
       "      <td>35.658068</td>\n",
       "      <td>139.751599</td>\n",
       "    </tr>\n",
       "    <tr>\n",
       "      <th>2</th>\n",
       "      <td>0</td>\n",
       "      <td>air_0241aa3964b7f861</td>\n",
       "      <td>2.0</td>\n",
       "      <td>8.920635</td>\n",
       "      <td>8.0</td>\n",
       "      <td>23.0</td>\n",
       "      <td>63.0</td>\n",
       "      <td>9.896465</td>\n",
       "      <td>6.214877</td>\n",
       "      <td>Izakaya</td>\n",
       "      <td>Tōkyō-to Taitō-ku Higashiueno</td>\n",
       "      <td>35.712607</td>\n",
       "      <td>139.779996</td>\n",
       "    </tr>\n",
       "    <tr>\n",
       "      <th>3</th>\n",
       "      <td>0</td>\n",
       "      <td>air_0328696196e46f18</td>\n",
       "      <td>2.0</td>\n",
       "      <td>6.416667</td>\n",
       "      <td>4.0</td>\n",
       "      <td>27.0</td>\n",
       "      <td>12.0</td>\n",
       "      <td>7.939655</td>\n",
       "      <td>6.733807</td>\n",
       "      <td>Dining bar</td>\n",
       "      <td>Ōsaka-fu Ōsaka-shi Nakanochō</td>\n",
       "      <td>34.701279</td>\n",
       "      <td>135.528090</td>\n",
       "    </tr>\n",
       "    <tr>\n",
       "      <th>4</th>\n",
       "      <td>0</td>\n",
       "      <td>air_034a3d5b40d5b1b1</td>\n",
       "      <td>1.0</td>\n",
       "      <td>11.864865</td>\n",
       "      <td>10.0</td>\n",
       "      <td>66.0</td>\n",
       "      <td>37.0</td>\n",
       "      <td>14.828685</td>\n",
       "      <td>13.154107</td>\n",
       "      <td>Cafe/Sweets</td>\n",
       "      <td>Ōsaka-fu Ōsaka-shi Ōhiraki</td>\n",
       "      <td>34.692337</td>\n",
       "      <td>135.472229</td>\n",
       "    </tr>\n",
       "  </tbody>\n",
       "</table>\n",
       "</div>"
      ],
      "text/plain": [
       "   DayofWeek          air_store_id  min_visitors  mean_visitors  \\\n",
       "0          0  air_00a91d42b08b08d9           1.0      22.457143   \n",
       "1          0  air_0164b9927d20bcc3           2.0       7.500000   \n",
       "2          0  air_0241aa3964b7f861           2.0       8.920635   \n",
       "3          0  air_0328696196e46f18           2.0       6.416667   \n",
       "4          0  air_034a3d5b40d5b1b1           1.0      11.864865   \n",
       "\n",
       "   median_visitors  max_visitors  count_visitors  mean_visitorso   std_devo  \\\n",
       "0             19.0          47.0            35.0       26.081897  12.435364   \n",
       "1              6.0          19.0            20.0        9.248322   6.348980   \n",
       "2              8.0          23.0            63.0        9.896465   6.214877   \n",
       "3              4.0          27.0            12.0        7.939655   6.733807   \n",
       "4             10.0          66.0            37.0       14.828685  13.154107   \n",
       "\n",
       "   air_genre_name                    air_area_name   latitude   longitude  \n",
       "0  Italian/French  Tōkyō-to Chiyoda-ku Kudanminami  35.694003  139.753595  \n",
       "1  Italian/French     Tōkyō-to Minato-ku Shibakōen  35.658068  139.751599  \n",
       "2         Izakaya    Tōkyō-to Taitō-ku Higashiueno  35.712607  139.779996  \n",
       "3      Dining bar     Ōsaka-fu Ōsaka-shi Nakanochō  34.701279  135.528090  \n",
       "4     Cafe/Sweets       Ōsaka-fu Ōsaka-shi Ōhiraki  34.692337  135.472229  "
      ]
     },
     "execution_count": 60,
     "metadata": {},
     "output_type": "execute_result"
    }
   ],
   "source": [
    "stores.head()"
   ]
  },
  {
   "cell_type": "code",
   "execution_count": 61,
   "metadata": {
    "collapsed": true
   },
   "outputs": [],
   "source": [
    "stores[\"air_genre_name\"]=stores[\"air_genre_name\"].map(lambda x: str(str(x).replace(\"/\",\" \")))\n",
    "stores[\"air_area_name\"]= stores[\"air_area_name\"].map(lambda x: str(str(x).replace(\"-\",\" \")))\n",
    "labelEncode = preprocessing.LabelEncoder()"
   ]
  },
  {
   "cell_type": "code",
   "execution_count": 62,
   "metadata": {},
   "outputs": [
    {
     "data": {
      "text/html": [
       "<div>\n",
       "<style>\n",
       "    .dataframe thead tr:only-child th {\n",
       "        text-align: right;\n",
       "    }\n",
       "\n",
       "    .dataframe thead th {\n",
       "        text-align: left;\n",
       "    }\n",
       "\n",
       "    .dataframe tbody tr th {\n",
       "        vertical-align: top;\n",
       "    }\n",
       "</style>\n",
       "<table border=\"1\" class=\"dataframe\">\n",
       "  <thead>\n",
       "    <tr style=\"text-align: right;\">\n",
       "      <th></th>\n",
       "      <th>DayofWeek</th>\n",
       "      <th>air_store_id</th>\n",
       "      <th>min_visitors</th>\n",
       "      <th>mean_visitors</th>\n",
       "      <th>median_visitors</th>\n",
       "      <th>max_visitors</th>\n",
       "      <th>count_visitors</th>\n",
       "      <th>mean_visitorso</th>\n",
       "      <th>std_devo</th>\n",
       "      <th>air_genre_name</th>\n",
       "      <th>air_area_name</th>\n",
       "      <th>latitude</th>\n",
       "      <th>longitude</th>\n",
       "    </tr>\n",
       "  </thead>\n",
       "  <tbody>\n",
       "    <tr>\n",
       "      <th>0</th>\n",
       "      <td>0</td>\n",
       "      <td>air_00a91d42b08b08d9</td>\n",
       "      <td>1.0</td>\n",
       "      <td>22.457143</td>\n",
       "      <td>19.0</td>\n",
       "      <td>47.0</td>\n",
       "      <td>35.0</td>\n",
       "      <td>26.081897</td>\n",
       "      <td>12.435364</td>\n",
       "      <td>Italian French</td>\n",
       "      <td>Tōkyō to Chiyoda ku Kudanminami</td>\n",
       "      <td>35.694003</td>\n",
       "      <td>139.753595</td>\n",
       "    </tr>\n",
       "    <tr>\n",
       "      <th>1</th>\n",
       "      <td>0</td>\n",
       "      <td>air_0164b9927d20bcc3</td>\n",
       "      <td>2.0</td>\n",
       "      <td>7.500000</td>\n",
       "      <td>6.0</td>\n",
       "      <td>19.0</td>\n",
       "      <td>20.0</td>\n",
       "      <td>9.248322</td>\n",
       "      <td>6.348980</td>\n",
       "      <td>Italian French</td>\n",
       "      <td>Tōkyō to Minato ku Shibakōen</td>\n",
       "      <td>35.658068</td>\n",
       "      <td>139.751599</td>\n",
       "    </tr>\n",
       "    <tr>\n",
       "      <th>2</th>\n",
       "      <td>0</td>\n",
       "      <td>air_0241aa3964b7f861</td>\n",
       "      <td>2.0</td>\n",
       "      <td>8.920635</td>\n",
       "      <td>8.0</td>\n",
       "      <td>23.0</td>\n",
       "      <td>63.0</td>\n",
       "      <td>9.896465</td>\n",
       "      <td>6.214877</td>\n",
       "      <td>Izakaya</td>\n",
       "      <td>Tōkyō to Taitō ku Higashiueno</td>\n",
       "      <td>35.712607</td>\n",
       "      <td>139.779996</td>\n",
       "    </tr>\n",
       "    <tr>\n",
       "      <th>3</th>\n",
       "      <td>0</td>\n",
       "      <td>air_0328696196e46f18</td>\n",
       "      <td>2.0</td>\n",
       "      <td>6.416667</td>\n",
       "      <td>4.0</td>\n",
       "      <td>27.0</td>\n",
       "      <td>12.0</td>\n",
       "      <td>7.939655</td>\n",
       "      <td>6.733807</td>\n",
       "      <td>Dining bar</td>\n",
       "      <td>Ōsaka fu Ōsaka shi Nakanochō</td>\n",
       "      <td>34.701279</td>\n",
       "      <td>135.528090</td>\n",
       "    </tr>\n",
       "    <tr>\n",
       "      <th>4</th>\n",
       "      <td>0</td>\n",
       "      <td>air_034a3d5b40d5b1b1</td>\n",
       "      <td>1.0</td>\n",
       "      <td>11.864865</td>\n",
       "      <td>10.0</td>\n",
       "      <td>66.0</td>\n",
       "      <td>37.0</td>\n",
       "      <td>14.828685</td>\n",
       "      <td>13.154107</td>\n",
       "      <td>Cafe Sweets</td>\n",
       "      <td>Ōsaka fu Ōsaka shi Ōhiraki</td>\n",
       "      <td>34.692337</td>\n",
       "      <td>135.472229</td>\n",
       "    </tr>\n",
       "  </tbody>\n",
       "</table>\n",
       "</div>"
      ],
      "text/plain": [
       "   DayofWeek          air_store_id  min_visitors  mean_visitors  \\\n",
       "0          0  air_00a91d42b08b08d9           1.0      22.457143   \n",
       "1          0  air_0164b9927d20bcc3           2.0       7.500000   \n",
       "2          0  air_0241aa3964b7f861           2.0       8.920635   \n",
       "3          0  air_0328696196e46f18           2.0       6.416667   \n",
       "4          0  air_034a3d5b40d5b1b1           1.0      11.864865   \n",
       "\n",
       "   median_visitors  max_visitors  count_visitors  mean_visitorso   std_devo  \\\n",
       "0             19.0          47.0            35.0       26.081897  12.435364   \n",
       "1              6.0          19.0            20.0        9.248322   6.348980   \n",
       "2              8.0          23.0            63.0        9.896465   6.214877   \n",
       "3              4.0          27.0            12.0        7.939655   6.733807   \n",
       "4             10.0          66.0            37.0       14.828685  13.154107   \n",
       "\n",
       "   air_genre_name                    air_area_name   latitude   longitude  \n",
       "0  Italian French  Tōkyō to Chiyoda ku Kudanminami  35.694003  139.753595  \n",
       "1  Italian French     Tōkyō to Minato ku Shibakōen  35.658068  139.751599  \n",
       "2         Izakaya    Tōkyō to Taitō ku Higashiueno  35.712607  139.779996  \n",
       "3      Dining bar     Ōsaka fu Ōsaka shi Nakanochō  34.701279  135.528090  \n",
       "4     Cafe Sweets       Ōsaka fu Ōsaka shi Ōhiraki  34.692337  135.472229  "
      ]
     },
     "execution_count": 62,
     "metadata": {},
     "output_type": "execute_result"
    }
   ],
   "source": [
    "stores.head()"
   ]
  },
  {
   "cell_type": "code",
   "execution_count": 63,
   "metadata": {
    "collapsed": true,
    "scrolled": true
   },
   "outputs": [],
   "source": [
    "for i in range(10):\n",
    "    stores[\"air_genre_name\"+str(i)] = labelEncode.fit_transform(stores[\"air_genre_name\"].map(lambda x: str(str(x).split(\" \")[i]) if len(str(x).split(\" \")) >i else \"\"))\n",
    "    stores[\"air_area_name\"+str(i)] = labelEncode.fit_transform(stores[\"air_area_name\"].map(lambda x: str(str(x).split(\" \")[i]) if len(str(x).split(\" \")) >i else \"\"))\n",
    "stores[\"air_genre_name\"] = labelEncode.fit_transform(stores[\"air_genre_name\"])\n",
    "stores[\"air_area_name\"] = labelEncode.fit_transform(stores[\"air_area_name\"])\n",
    "stores['area']=stores['air_area_name'].map(lambda x: str(str(x).split(' ')[:2]))\n",
    "stores['area']=labelEncode.fit_transform(stores['area'])\n",
    "stores['area']=stores['air_area_name'].map(lambda x: str(str(x).split(' ')[:2]))\n",
    "stores['area']=labelEncode.fit_transform(stores['area'])"
   ]
  },
  {
   "cell_type": "code",
   "execution_count": 64,
   "metadata": {},
   "outputs": [
    {
     "data": {
      "text/html": [
       "<div>\n",
       "<style>\n",
       "    .dataframe thead tr:only-child th {\n",
       "        text-align: right;\n",
       "    }\n",
       "\n",
       "    .dataframe thead th {\n",
       "        text-align: left;\n",
       "    }\n",
       "\n",
       "    .dataframe tbody tr th {\n",
       "        vertical-align: top;\n",
       "    }\n",
       "</style>\n",
       "<table border=\"1\" class=\"dataframe\">\n",
       "  <thead>\n",
       "    <tr style=\"text-align: right;\">\n",
       "      <th></th>\n",
       "      <th>DayofWeek</th>\n",
       "      <th>air_store_id</th>\n",
       "      <th>min_visitors</th>\n",
       "      <th>mean_visitors</th>\n",
       "      <th>median_visitors</th>\n",
       "      <th>max_visitors</th>\n",
       "      <th>count_visitors</th>\n",
       "      <th>mean_visitorso</th>\n",
       "      <th>std_devo</th>\n",
       "      <th>air_genre_name</th>\n",
       "      <th>...</th>\n",
       "      <th>air_area_name5</th>\n",
       "      <th>air_genre_name6</th>\n",
       "      <th>air_area_name6</th>\n",
       "      <th>air_genre_name7</th>\n",
       "      <th>air_area_name7</th>\n",
       "      <th>air_genre_name8</th>\n",
       "      <th>air_area_name8</th>\n",
       "      <th>air_genre_name9</th>\n",
       "      <th>air_area_name9</th>\n",
       "      <th>area</th>\n",
       "    </tr>\n",
       "  </thead>\n",
       "  <tbody>\n",
       "    <tr>\n",
       "      <th>0</th>\n",
       "      <td>0</td>\n",
       "      <td>air_00a91d42b08b08d9</td>\n",
       "      <td>1.0</td>\n",
       "      <td>22.457143</td>\n",
       "      <td>19.0</td>\n",
       "      <td>47.0</td>\n",
       "      <td>35.0</td>\n",
       "      <td>26.081897</td>\n",
       "      <td>12.435364</td>\n",
       "      <td>6</td>\n",
       "      <td>...</td>\n",
       "      <td>0</td>\n",
       "      <td>0</td>\n",
       "      <td>0</td>\n",
       "      <td>0</td>\n",
       "      <td>0</td>\n",
       "      <td>0</td>\n",
       "      <td>0</td>\n",
       "      <td>0</td>\n",
       "      <td>0</td>\n",
       "      <td>42</td>\n",
       "    </tr>\n",
       "    <tr>\n",
       "      <th>1</th>\n",
       "      <td>0</td>\n",
       "      <td>air_0164b9927d20bcc3</td>\n",
       "      <td>2.0</td>\n",
       "      <td>7.500000</td>\n",
       "      <td>6.0</td>\n",
       "      <td>19.0</td>\n",
       "      <td>20.0</td>\n",
       "      <td>9.248322</td>\n",
       "      <td>6.348980</td>\n",
       "      <td>6</td>\n",
       "      <td>...</td>\n",
       "      <td>0</td>\n",
       "      <td>0</td>\n",
       "      <td>0</td>\n",
       "      <td>0</td>\n",
       "      <td>0</td>\n",
       "      <td>0</td>\n",
       "      <td>0</td>\n",
       "      <td>0</td>\n",
       "      <td>0</td>\n",
       "      <td>62</td>\n",
       "    </tr>\n",
       "    <tr>\n",
       "      <th>2</th>\n",
       "      <td>0</td>\n",
       "      <td>air_0241aa3964b7f861</td>\n",
       "      <td>2.0</td>\n",
       "      <td>8.920635</td>\n",
       "      <td>8.0</td>\n",
       "      <td>23.0</td>\n",
       "      <td>63.0</td>\n",
       "      <td>9.896465</td>\n",
       "      <td>6.214877</td>\n",
       "      <td>7</td>\n",
       "      <td>...</td>\n",
       "      <td>0</td>\n",
       "      <td>0</td>\n",
       "      <td>0</td>\n",
       "      <td>0</td>\n",
       "      <td>0</td>\n",
       "      <td>0</td>\n",
       "      <td>0</td>\n",
       "      <td>0</td>\n",
       "      <td>0</td>\n",
       "      <td>84</td>\n",
       "    </tr>\n",
       "    <tr>\n",
       "      <th>3</th>\n",
       "      <td>0</td>\n",
       "      <td>air_0328696196e46f18</td>\n",
       "      <td>2.0</td>\n",
       "      <td>6.416667</td>\n",
       "      <td>4.0</td>\n",
       "      <td>27.0</td>\n",
       "      <td>12.0</td>\n",
       "      <td>7.939655</td>\n",
       "      <td>6.733807</td>\n",
       "      <td>4</td>\n",
       "      <td>...</td>\n",
       "      <td>0</td>\n",
       "      <td>0</td>\n",
       "      <td>0</td>\n",
       "      <td>0</td>\n",
       "      <td>0</td>\n",
       "      <td>0</td>\n",
       "      <td>0</td>\n",
       "      <td>0</td>\n",
       "      <td>0</td>\n",
       "      <td>101</td>\n",
       "    </tr>\n",
       "    <tr>\n",
       "      <th>4</th>\n",
       "      <td>0</td>\n",
       "      <td>air_034a3d5b40d5b1b1</td>\n",
       "      <td>1.0</td>\n",
       "      <td>11.864865</td>\n",
       "      <td>10.0</td>\n",
       "      <td>66.0</td>\n",
       "      <td>37.0</td>\n",
       "      <td>14.828685</td>\n",
       "      <td>13.154107</td>\n",
       "      <td>2</td>\n",
       "      <td>...</td>\n",
       "      <td>0</td>\n",
       "      <td>0</td>\n",
       "      <td>0</td>\n",
       "      <td>0</td>\n",
       "      <td>0</td>\n",
       "      <td>0</td>\n",
       "      <td>0</td>\n",
       "      <td>0</td>\n",
       "      <td>0</td>\n",
       "      <td>5</td>\n",
       "    </tr>\n",
       "  </tbody>\n",
       "</table>\n",
       "<p>5 rows × 34 columns</p>\n",
       "</div>"
      ],
      "text/plain": [
       "   DayofWeek          air_store_id  min_visitors  mean_visitors  \\\n",
       "0          0  air_00a91d42b08b08d9           1.0      22.457143   \n",
       "1          0  air_0164b9927d20bcc3           2.0       7.500000   \n",
       "2          0  air_0241aa3964b7f861           2.0       8.920635   \n",
       "3          0  air_0328696196e46f18           2.0       6.416667   \n",
       "4          0  air_034a3d5b40d5b1b1           1.0      11.864865   \n",
       "\n",
       "   median_visitors  max_visitors  count_visitors  mean_visitorso   std_devo  \\\n",
       "0             19.0          47.0            35.0       26.081897  12.435364   \n",
       "1              6.0          19.0            20.0        9.248322   6.348980   \n",
       "2              8.0          23.0            63.0        9.896465   6.214877   \n",
       "3              4.0          27.0            12.0        7.939655   6.733807   \n",
       "4             10.0          66.0            37.0       14.828685  13.154107   \n",
       "\n",
       "   air_genre_name  ...   air_area_name5  air_genre_name6  air_area_name6  \\\n",
       "0               6  ...                0                0               0   \n",
       "1               6  ...                0                0               0   \n",
       "2               7  ...                0                0               0   \n",
       "3               4  ...                0                0               0   \n",
       "4               2  ...                0                0               0   \n",
       "\n",
       "   air_genre_name7  air_area_name7  air_genre_name8  air_area_name8  \\\n",
       "0                0               0                0               0   \n",
       "1                0               0                0               0   \n",
       "2                0               0                0               0   \n",
       "3                0               0                0               0   \n",
       "4                0               0                0               0   \n",
       "\n",
       "   air_genre_name9  air_area_name9  area  \n",
       "0                0               0    42  \n",
       "1                0               0    62  \n",
       "2                0               0    84  \n",
       "3                0               0   101  \n",
       "4                0               0     5  \n",
       "\n",
       "[5 rows x 34 columns]"
      ]
     },
     "execution_count": 64,
     "metadata": {},
     "output_type": "execute_result"
    }
   ],
   "source": [
    "stores.head()"
   ]
  },
  {
   "cell_type": "code",
   "execution_count": 65,
   "metadata": {
    "collapsed": true
   },
   "outputs": [],
   "source": [
    "holidays = holidays.rename(columns={\"calendar_date\":\"visit_date\"})\n",
    "holidays[\"visit_date\"] = pd.to_datetime(holidays[\"visit_date\"])\n",
    "holidays[\"day_of_week\"] = labelEncode.fit_transform(holidays[\"day_of_week\"])\n",
    "holidays[\"visit_date\"] = holidays[\"visit_date\"].dt.date"
   ]
  },
  {
   "cell_type": "code",
   "execution_count": 66,
   "metadata": {
    "collapsed": true
   },
   "outputs": [],
   "source": [
    "train = pd.merge(air_visit_1,holidays,how=\"left\",on=[\"visit_date\"])\n",
    "test = pd.merge(test,holidays,how=\"left\",on=[\"visit_date\"])\n",
    "\n",
    "train = pd.merge(train,stores,how=\"left\",on=[\"air_store_id\",\"DayofWeek\"])\n",
    "test = pd.merge(test,stores,how=\"left\",on=[\"air_store_id\",\"DayofWeek\"])\n",
    "    "
   ]
  },
  {
   "cell_type": "code",
   "execution_count": 67,
   "metadata": {
    "collapsed": true
   },
   "outputs": [],
   "source": [
    "for df in [air_reserve,hpg_reserve]:\n",
    "    train = pd.merge(train, df, how='left', on=['air_store_id','visit_date']) \n",
    "    test = pd.merge(test, df, how='left', on=[\"air_store_id\",\"visit_date\"])\n",
    "    \n",
    "\n"
   ]
  },
  {
   "cell_type": "code",
   "execution_count": 68,
   "metadata": {},
   "outputs": [
    {
     "data": {
      "text/html": [
       "<div>\n",
       "<style>\n",
       "    .dataframe thead tr:only-child th {\n",
       "        text-align: right;\n",
       "    }\n",
       "\n",
       "    .dataframe thead th {\n",
       "        text-align: left;\n",
       "    }\n",
       "\n",
       "    .dataframe tbody tr th {\n",
       "        vertical-align: top;\n",
       "    }\n",
       "</style>\n",
       "<table border=\"1\" class=\"dataframe\">\n",
       "  <thead>\n",
       "    <tr style=\"text-align: right;\">\n",
       "      <th></th>\n",
       "      <th>id</th>\n",
       "      <th>visitors</th>\n",
       "      <th>visit_date</th>\n",
       "      <th>air_store_id</th>\n",
       "      <th>DayofWeek</th>\n",
       "      <th>year</th>\n",
       "      <th>month</th>\n",
       "      <th>day_of_week</th>\n",
       "      <th>holiday_flg</th>\n",
       "      <th>min_visitors</th>\n",
       "      <th>...</th>\n",
       "      <th>air_area_name9</th>\n",
       "      <th>area</th>\n",
       "      <th>rs1_x</th>\n",
       "      <th>rv1_x</th>\n",
       "      <th>rs2_x</th>\n",
       "      <th>rv2_x</th>\n",
       "      <th>rs1_y</th>\n",
       "      <th>rv1_y</th>\n",
       "      <th>rs2_y</th>\n",
       "      <th>rv2_y</th>\n",
       "    </tr>\n",
       "  </thead>\n",
       "  <tbody>\n",
       "    <tr>\n",
       "      <th>0</th>\n",
       "      <td>air_00a91d42b08b08d9_2017-04-23</td>\n",
       "      <td>0</td>\n",
       "      <td>2017-04-23</td>\n",
       "      <td>air_00a91d42b08b08d9</td>\n",
       "      <td>6</td>\n",
       "      <td>2017</td>\n",
       "      <td>4</td>\n",
       "      <td>3</td>\n",
       "      <td>0</td>\n",
       "      <td>2.0</td>\n",
       "      <td>...</td>\n",
       "      <td>0</td>\n",
       "      <td>42</td>\n",
       "      <td>NaN</td>\n",
       "      <td>NaN</td>\n",
       "      <td>NaN</td>\n",
       "      <td>NaN</td>\n",
       "      <td>NaN</td>\n",
       "      <td>NaN</td>\n",
       "      <td>NaN</td>\n",
       "      <td>NaN</td>\n",
       "    </tr>\n",
       "    <tr>\n",
       "      <th>1</th>\n",
       "      <td>air_00a91d42b08b08d9_2017-04-24</td>\n",
       "      <td>0</td>\n",
       "      <td>2017-04-24</td>\n",
       "      <td>air_00a91d42b08b08d9</td>\n",
       "      <td>0</td>\n",
       "      <td>2017</td>\n",
       "      <td>4</td>\n",
       "      <td>1</td>\n",
       "      <td>0</td>\n",
       "      <td>1.0</td>\n",
       "      <td>...</td>\n",
       "      <td>0</td>\n",
       "      <td>42</td>\n",
       "      <td>NaN</td>\n",
       "      <td>NaN</td>\n",
       "      <td>NaN</td>\n",
       "      <td>NaN</td>\n",
       "      <td>NaN</td>\n",
       "      <td>NaN</td>\n",
       "      <td>NaN</td>\n",
       "      <td>NaN</td>\n",
       "    </tr>\n",
       "    <tr>\n",
       "      <th>2</th>\n",
       "      <td>air_00a91d42b08b08d9_2017-04-25</td>\n",
       "      <td>0</td>\n",
       "      <td>2017-04-25</td>\n",
       "      <td>air_00a91d42b08b08d9</td>\n",
       "      <td>1</td>\n",
       "      <td>2017</td>\n",
       "      <td>4</td>\n",
       "      <td>5</td>\n",
       "      <td>0</td>\n",
       "      <td>1.0</td>\n",
       "      <td>...</td>\n",
       "      <td>0</td>\n",
       "      <td>42</td>\n",
       "      <td>NaN</td>\n",
       "      <td>NaN</td>\n",
       "      <td>NaN</td>\n",
       "      <td>NaN</td>\n",
       "      <td>NaN</td>\n",
       "      <td>NaN</td>\n",
       "      <td>NaN</td>\n",
       "      <td>NaN</td>\n",
       "    </tr>\n",
       "    <tr>\n",
       "      <th>3</th>\n",
       "      <td>air_00a91d42b08b08d9_2017-04-26</td>\n",
       "      <td>0</td>\n",
       "      <td>2017-04-26</td>\n",
       "      <td>air_00a91d42b08b08d9</td>\n",
       "      <td>2</td>\n",
       "      <td>2017</td>\n",
       "      <td>4</td>\n",
       "      <td>6</td>\n",
       "      <td>0</td>\n",
       "      <td>15.0</td>\n",
       "      <td>...</td>\n",
       "      <td>0</td>\n",
       "      <td>42</td>\n",
       "      <td>NaN</td>\n",
       "      <td>NaN</td>\n",
       "      <td>NaN</td>\n",
       "      <td>NaN</td>\n",
       "      <td>NaN</td>\n",
       "      <td>NaN</td>\n",
       "      <td>NaN</td>\n",
       "      <td>NaN</td>\n",
       "    </tr>\n",
       "    <tr>\n",
       "      <th>4</th>\n",
       "      <td>air_00a91d42b08b08d9_2017-04-27</td>\n",
       "      <td>0</td>\n",
       "      <td>2017-04-27</td>\n",
       "      <td>air_00a91d42b08b08d9</td>\n",
       "      <td>3</td>\n",
       "      <td>2017</td>\n",
       "      <td>4</td>\n",
       "      <td>4</td>\n",
       "      <td>0</td>\n",
       "      <td>15.0</td>\n",
       "      <td>...</td>\n",
       "      <td>0</td>\n",
       "      <td>42</td>\n",
       "      <td>NaN</td>\n",
       "      <td>NaN</td>\n",
       "      <td>NaN</td>\n",
       "      <td>NaN</td>\n",
       "      <td>NaN</td>\n",
       "      <td>NaN</td>\n",
       "      <td>NaN</td>\n",
       "      <td>NaN</td>\n",
       "    </tr>\n",
       "  </tbody>\n",
       "</table>\n",
       "<p>5 rows × 49 columns</p>\n",
       "</div>"
      ],
      "text/plain": [
       "                                id  visitors  visit_date  \\\n",
       "0  air_00a91d42b08b08d9_2017-04-23         0  2017-04-23   \n",
       "1  air_00a91d42b08b08d9_2017-04-24         0  2017-04-24   \n",
       "2  air_00a91d42b08b08d9_2017-04-25         0  2017-04-25   \n",
       "3  air_00a91d42b08b08d9_2017-04-26         0  2017-04-26   \n",
       "4  air_00a91d42b08b08d9_2017-04-27         0  2017-04-27   \n",
       "\n",
       "           air_store_id  DayofWeek  year  month  day_of_week  holiday_flg  \\\n",
       "0  air_00a91d42b08b08d9          6  2017      4            3            0   \n",
       "1  air_00a91d42b08b08d9          0  2017      4            1            0   \n",
       "2  air_00a91d42b08b08d9          1  2017      4            5            0   \n",
       "3  air_00a91d42b08b08d9          2  2017      4            6            0   \n",
       "4  air_00a91d42b08b08d9          3  2017      4            4            0   \n",
       "\n",
       "   min_visitors  ...    air_area_name9  area  rs1_x  rv1_x  rs2_x  rv2_x  \\\n",
       "0           2.0  ...                 0    42    NaN    NaN    NaN    NaN   \n",
       "1           1.0  ...                 0    42    NaN    NaN    NaN    NaN   \n",
       "2           1.0  ...                 0    42    NaN    NaN    NaN    NaN   \n",
       "3          15.0  ...                 0    42    NaN    NaN    NaN    NaN   \n",
       "4          15.0  ...                 0    42    NaN    NaN    NaN    NaN   \n",
       "\n",
       "   rs1_y  rv1_y  rs2_y  rv2_y  \n",
       "0    NaN    NaN    NaN    NaN  \n",
       "1    NaN    NaN    NaN    NaN  \n",
       "2    NaN    NaN    NaN    NaN  \n",
       "3    NaN    NaN    NaN    NaN  \n",
       "4    NaN    NaN    NaN    NaN  \n",
       "\n",
       "[5 rows x 49 columns]"
      ]
     },
     "execution_count": 68,
     "metadata": {},
     "output_type": "execute_result"
    }
   ],
   "source": [
    "test.head()"
   ]
  },
  {
   "cell_type": "code",
   "execution_count": 69,
   "metadata": {
    "collapsed": true
   },
   "outputs": [],
   "source": [
    "train[\"id\"] = train.apply(lambda r: '_'.join([str(r['air_store_id']), str(r['visit_date'])]), axis=1)\n",
    "    "
   ]
  },
  {
   "cell_type": "code",
   "execution_count": 70,
   "metadata": {
    "collapsed": true
   },
   "outputs": [],
   "source": [
    "train['total_reserv_sum'] = train['rv1_x'] + train['rv1_y']\n",
    "train['total_reserv_mean'] = (train['rv2_x'] + train['rv2_y']) / 2\n",
    "train['total_reserv_dt_diff_mean'] = (train['rs2_x'] + train['rs2_y']) / 2\n",
    "\n",
    "test['total_reserv_sum'] = test['rv1_x'] + test['rv1_y']\n",
    "test['total_reserv_mean'] = (test['rv2_x'] + test['rv2_y']) / 2\n",
    "test['total_reserv_dt_diff_mean'] = (test['rs2_x'] + test['rs2_y']) / 2"
   ]
  },
  {
   "cell_type": "code",
   "execution_count": 71,
   "metadata": {
    "collapsed": true
   },
   "outputs": [],
   "source": [
    "train['date_int'] = train['visit_date'].apply(lambda x: x.strftime('%Y%m%d')).astype(int)\n",
    "test['date_int'] = test['visit_date'].apply(lambda x: x.strftime('%Y%m%d')).astype(int)\n",
    "train['var_max_lat'] = train['latitude'].max() - train['latitude']\n",
    "train['var_max_long'] = train['longitude'].max() - train['longitude']\n",
    "test['var_max_lat'] = test['latitude'].max() - test['latitude']\n",
    "test['var_max_long'] = test['longitude'].max() - test['longitude']"
   ]
  },
  {
   "cell_type": "code",
   "execution_count": 72,
   "metadata": {
    "collapsed": true
   },
   "outputs": [],
   "source": [
    "test['date_int'] = test['visit_date'].apply(lambda x: x.strftime('%Y%m%d')).astype(int)\n",
    "test['var_max_lat'] = test['latitude'].max() - test['latitude']\n",
    "test['var_max_long'] = test['longitude'].max() - test['longitude']"
   ]
  },
  {
   "cell_type": "code",
   "execution_count": 73,
   "metadata": {},
   "outputs": [
    {
     "data": {
      "text/html": [
       "<div>\n",
       "<style>\n",
       "    .dataframe thead tr:only-child th {\n",
       "        text-align: right;\n",
       "    }\n",
       "\n",
       "    .dataframe thead th {\n",
       "        text-align: left;\n",
       "    }\n",
       "\n",
       "    .dataframe tbody tr th {\n",
       "        vertical-align: top;\n",
       "    }\n",
       "</style>\n",
       "<table border=\"1\" class=\"dataframe\">\n",
       "  <thead>\n",
       "    <tr style=\"text-align: right;\">\n",
       "      <th></th>\n",
       "      <th>id</th>\n",
       "      <th>visitors</th>\n",
       "      <th>visit_date</th>\n",
       "      <th>air_store_id</th>\n",
       "      <th>DayofWeek</th>\n",
       "      <th>year</th>\n",
       "      <th>month</th>\n",
       "      <th>day_of_week</th>\n",
       "      <th>holiday_flg</th>\n",
       "      <th>min_visitors</th>\n",
       "      <th>...</th>\n",
       "      <th>rs1_y</th>\n",
       "      <th>rv1_y</th>\n",
       "      <th>rs2_y</th>\n",
       "      <th>rv2_y</th>\n",
       "      <th>total_reserv_sum</th>\n",
       "      <th>total_reserv_mean</th>\n",
       "      <th>total_reserv_dt_diff_mean</th>\n",
       "      <th>date_int</th>\n",
       "      <th>var_max_lat</th>\n",
       "      <th>var_max_long</th>\n",
       "    </tr>\n",
       "  </thead>\n",
       "  <tbody>\n",
       "    <tr>\n",
       "      <th>0</th>\n",
       "      <td>air_00a91d42b08b08d9_2017-04-23</td>\n",
       "      <td>0</td>\n",
       "      <td>2017-04-23</td>\n",
       "      <td>air_00a91d42b08b08d9</td>\n",
       "      <td>6</td>\n",
       "      <td>2017</td>\n",
       "      <td>4</td>\n",
       "      <td>3</td>\n",
       "      <td>0</td>\n",
       "      <td>2.0</td>\n",
       "      <td>...</td>\n",
       "      <td>NaN</td>\n",
       "      <td>NaN</td>\n",
       "      <td>NaN</td>\n",
       "      <td>NaN</td>\n",
       "      <td>NaN</td>\n",
       "      <td>NaN</td>\n",
       "      <td>NaN</td>\n",
       "      <td>20170423</td>\n",
       "      <td>8.326629</td>\n",
       "      <td>4.519803</td>\n",
       "    </tr>\n",
       "    <tr>\n",
       "      <th>1</th>\n",
       "      <td>air_00a91d42b08b08d9_2017-04-24</td>\n",
       "      <td>0</td>\n",
       "      <td>2017-04-24</td>\n",
       "      <td>air_00a91d42b08b08d9</td>\n",
       "      <td>0</td>\n",
       "      <td>2017</td>\n",
       "      <td>4</td>\n",
       "      <td>1</td>\n",
       "      <td>0</td>\n",
       "      <td>1.0</td>\n",
       "      <td>...</td>\n",
       "      <td>NaN</td>\n",
       "      <td>NaN</td>\n",
       "      <td>NaN</td>\n",
       "      <td>NaN</td>\n",
       "      <td>NaN</td>\n",
       "      <td>NaN</td>\n",
       "      <td>NaN</td>\n",
       "      <td>20170424</td>\n",
       "      <td>8.326629</td>\n",
       "      <td>4.519803</td>\n",
       "    </tr>\n",
       "    <tr>\n",
       "      <th>2</th>\n",
       "      <td>air_00a91d42b08b08d9_2017-04-25</td>\n",
       "      <td>0</td>\n",
       "      <td>2017-04-25</td>\n",
       "      <td>air_00a91d42b08b08d9</td>\n",
       "      <td>1</td>\n",
       "      <td>2017</td>\n",
       "      <td>4</td>\n",
       "      <td>5</td>\n",
       "      <td>0</td>\n",
       "      <td>1.0</td>\n",
       "      <td>...</td>\n",
       "      <td>NaN</td>\n",
       "      <td>NaN</td>\n",
       "      <td>NaN</td>\n",
       "      <td>NaN</td>\n",
       "      <td>NaN</td>\n",
       "      <td>NaN</td>\n",
       "      <td>NaN</td>\n",
       "      <td>20170425</td>\n",
       "      <td>8.326629</td>\n",
       "      <td>4.519803</td>\n",
       "    </tr>\n",
       "    <tr>\n",
       "      <th>3</th>\n",
       "      <td>air_00a91d42b08b08d9_2017-04-26</td>\n",
       "      <td>0</td>\n",
       "      <td>2017-04-26</td>\n",
       "      <td>air_00a91d42b08b08d9</td>\n",
       "      <td>2</td>\n",
       "      <td>2017</td>\n",
       "      <td>4</td>\n",
       "      <td>6</td>\n",
       "      <td>0</td>\n",
       "      <td>15.0</td>\n",
       "      <td>...</td>\n",
       "      <td>NaN</td>\n",
       "      <td>NaN</td>\n",
       "      <td>NaN</td>\n",
       "      <td>NaN</td>\n",
       "      <td>NaN</td>\n",
       "      <td>NaN</td>\n",
       "      <td>NaN</td>\n",
       "      <td>20170426</td>\n",
       "      <td>8.326629</td>\n",
       "      <td>4.519803</td>\n",
       "    </tr>\n",
       "    <tr>\n",
       "      <th>4</th>\n",
       "      <td>air_00a91d42b08b08d9_2017-04-27</td>\n",
       "      <td>0</td>\n",
       "      <td>2017-04-27</td>\n",
       "      <td>air_00a91d42b08b08d9</td>\n",
       "      <td>3</td>\n",
       "      <td>2017</td>\n",
       "      <td>4</td>\n",
       "      <td>4</td>\n",
       "      <td>0</td>\n",
       "      <td>15.0</td>\n",
       "      <td>...</td>\n",
       "      <td>NaN</td>\n",
       "      <td>NaN</td>\n",
       "      <td>NaN</td>\n",
       "      <td>NaN</td>\n",
       "      <td>NaN</td>\n",
       "      <td>NaN</td>\n",
       "      <td>NaN</td>\n",
       "      <td>20170427</td>\n",
       "      <td>8.326629</td>\n",
       "      <td>4.519803</td>\n",
       "    </tr>\n",
       "  </tbody>\n",
       "</table>\n",
       "<p>5 rows × 55 columns</p>\n",
       "</div>"
      ],
      "text/plain": [
       "                                id  visitors  visit_date  \\\n",
       "0  air_00a91d42b08b08d9_2017-04-23         0  2017-04-23   \n",
       "1  air_00a91d42b08b08d9_2017-04-24         0  2017-04-24   \n",
       "2  air_00a91d42b08b08d9_2017-04-25         0  2017-04-25   \n",
       "3  air_00a91d42b08b08d9_2017-04-26         0  2017-04-26   \n",
       "4  air_00a91d42b08b08d9_2017-04-27         0  2017-04-27   \n",
       "\n",
       "           air_store_id  DayofWeek  year  month  day_of_week  holiday_flg  \\\n",
       "0  air_00a91d42b08b08d9          6  2017      4            3            0   \n",
       "1  air_00a91d42b08b08d9          0  2017      4            1            0   \n",
       "2  air_00a91d42b08b08d9          1  2017      4            5            0   \n",
       "3  air_00a91d42b08b08d9          2  2017      4            6            0   \n",
       "4  air_00a91d42b08b08d9          3  2017      4            4            0   \n",
       "\n",
       "   min_visitors      ...       rs1_y  rv1_y  rs2_y  rv2_y  total_reserv_sum  \\\n",
       "0           2.0      ...         NaN    NaN    NaN    NaN               NaN   \n",
       "1           1.0      ...         NaN    NaN    NaN    NaN               NaN   \n",
       "2           1.0      ...         NaN    NaN    NaN    NaN               NaN   \n",
       "3          15.0      ...         NaN    NaN    NaN    NaN               NaN   \n",
       "4          15.0      ...         NaN    NaN    NaN    NaN               NaN   \n",
       "\n",
       "   total_reserv_mean  total_reserv_dt_diff_mean  date_int  var_max_lat  \\\n",
       "0                NaN                        NaN  20170423     8.326629   \n",
       "1                NaN                        NaN  20170424     8.326629   \n",
       "2                NaN                        NaN  20170425     8.326629   \n",
       "3                NaN                        NaN  20170426     8.326629   \n",
       "4                NaN                        NaN  20170427     8.326629   \n",
       "\n",
       "   var_max_long  \n",
       "0      4.519803  \n",
       "1      4.519803  \n",
       "2      4.519803  \n",
       "3      4.519803  \n",
       "4      4.519803  \n",
       "\n",
       "[5 rows x 55 columns]"
      ]
     },
     "execution_count": 73,
     "metadata": {},
     "output_type": "execute_result"
    }
   ],
   "source": [
    "test.head()"
   ]
  },
  {
   "cell_type": "code",
   "execution_count": 74,
   "metadata": {
    "collapsed": true
   },
   "outputs": [],
   "source": [
    "train['lon_plus_lat'] = train['longitude'] + train['latitude'] \n",
    "test['lon_plus_lat'] = test['longitude'] + test['latitude']\n",
    "\n",
    "\n",
    "train['air_store_id2'] = labelEncode.fit_transform(train['air_store_id'])\n",
    "test['air_store_id2'] = labelEncode.transform(test['air_store_id'])\n",
    "\n",
    "col = [c for c in train if c not in ['id', 'air_store_id', 'visit_date','visitors']]\n",
    "train = train.fillna(-1)\n",
    "test = test.fillna(-1)"
   ]
  },
  {
   "cell_type": "code",
   "execution_count": 75,
   "metadata": {
    "collapsed": true
   },
   "outputs": [],
   "source": [
    "def RMSLE(y, pred):\n",
    "    return metrics.mean_squared_error(y, pred)**0.5"
   ]
  },
  {
   "cell_type": "code",
   "execution_count": 76,
   "metadata": {
    "collapsed": true
   },
   "outputs": [],
   "source": [
    "\n",
    "\n",
    "model3= XGBRegressor(learning_rate=0.2, random_state=3, n_estimators=200, subsample=0.8,colsample_bytree=0.8, max_depth =10,n_jobs=-1)"
   ]
  },
  {
   "cell_type": "code",
   "execution_count": 77,
   "metadata": {},
   "outputs": [
    {
     "data": {
      "text/plain": [
       "XGBRegressor(base_score=0.5, booster='gbtree', colsample_bylevel=1,\n",
       "       colsample_bytree=0.8, gamma=0, learning_rate=0.2, max_delta_step=0,\n",
       "       max_depth=10, min_child_weight=1, missing=None, n_estimators=200,\n",
       "       n_jobs=-1, nthread=None, objective='reg:linear', random_state=3,\n",
       "       reg_alpha=0, reg_lambda=1, scale_pos_weight=1, seed=None,\n",
       "       silent=True, subsample=0.8)"
      ]
     },
     "execution_count": 77,
     "metadata": {},
     "output_type": "execute_result"
    }
   ],
   "source": [
    "\n",
    "\n",
    "model3.fit(train[col], np.log1p(train['visitors'].values))"
   ]
  },
  {
   "cell_type": "code",
   "execution_count": 78,
   "metadata": {
    "collapsed": true
   },
   "outputs": [],
   "source": [
    "model2= neighbors.KNeighborsRegressor(n_jobs=-1,n_neighbors=4)"
   ]
  },
  {
   "cell_type": "code",
   "execution_count": 79,
   "metadata": {},
   "outputs": [
    {
     "data": {
      "text/plain": [
       "KNeighborsRegressor(algorithm='auto', leaf_size=30, metric='minkowski',\n",
       "          metric_params=None, n_jobs=-1, n_neighbors=4, p=2,\n",
       "          weights='uniform')"
      ]
     },
     "execution_count": 79,
     "metadata": {},
     "output_type": "execute_result"
    }
   ],
   "source": [
    "model2.fit(train[col], np.log1p(train['visitors'].values))"
   ]
  },
  {
   "cell_type": "code",
   "execution_count": 80,
   "metadata": {
    "collapsed": true
   },
   "outputs": [],
   "source": [
    "\n",
    "predictions2 = model2.predict(train[col])\n",
    "predictions3 = model3.predict(train[col])"
   ]
  },
  {
   "cell_type": "code",
   "execution_count": 81,
   "metadata": {},
   "outputs": [
    {
     "name": "stdout",
     "output_type": "stream",
     "text": [
      "RMSE KNeighborsRegressor:  0.419651610955\n",
      "RMSE XGBRegressor:  0.438746425671\n"
     ]
    }
   ],
   "source": [
    "\n",
    "print('RMSE KNeighborsRegressor: ', RMSLE(np.log1p(train['visitors'].values), predictions2))\n",
    "print('RMSE XGBRegressor: ', RMSLE(np.log1p(train['visitors'].values), predictions3))"
   ]
  },
  {
   "cell_type": "code",
   "execution_count": 82,
   "metadata": {
    "collapsed": true
   },
   "outputs": [],
   "source": [
    "test_preds2 = model2.predict(test[col])\n",
    "test_preds3 = model3.predict(test[col])"
   ]
  },
  {
   "cell_type": "code",
   "execution_count": 83,
   "metadata": {
    "collapsed": true
   },
   "outputs": [],
   "source": [
    "test['visitors'] = 0.4*test_preds2+0.6*test_preds3\n",
    "test['visitors'] = np.expm1(test['visitors']).clip(lower=0.)\n",
    "sub1 = test[['id','visitors']].copy()"
   ]
  },
  {
   "cell_type": "code",
   "execution_count": 84,
   "metadata": {
    "collapsed": true
   },
   "outputs": [],
   "source": [
    "date_info = pd.read_csv(\"date_info.csv\")\n",
    "visit_data=pd.read_csv(\"air_visit_data.csv\")\n",
    "sample_submission = pd.read_csv(\"sample_submission.csv\")"
   ]
  },
  {
   "cell_type": "code",
   "execution_count": 85,
   "metadata": {},
   "outputs": [
    {
     "data": {
      "text/html": [
       "<div>\n",
       "<style>\n",
       "    .dataframe thead tr:only-child th {\n",
       "        text-align: right;\n",
       "    }\n",
       "\n",
       "    .dataframe thead th {\n",
       "        text-align: left;\n",
       "    }\n",
       "\n",
       "    .dataframe tbody tr th {\n",
       "        vertical-align: top;\n",
       "    }\n",
       "</style>\n",
       "<table border=\"1\" class=\"dataframe\">\n",
       "  <thead>\n",
       "    <tr style=\"text-align: right;\">\n",
       "      <th></th>\n",
       "      <th>calendar_date</th>\n",
       "      <th>day_of_week</th>\n",
       "      <th>holiday_flg</th>\n",
       "    </tr>\n",
       "  </thead>\n",
       "  <tbody>\n",
       "    <tr>\n",
       "      <th>0</th>\n",
       "      <td>2016-01-01</td>\n",
       "      <td>Friday</td>\n",
       "      <td>1</td>\n",
       "    </tr>\n",
       "    <tr>\n",
       "      <th>1</th>\n",
       "      <td>2016-01-02</td>\n",
       "      <td>Saturday</td>\n",
       "      <td>1</td>\n",
       "    </tr>\n",
       "    <tr>\n",
       "      <th>2</th>\n",
       "      <td>2016-01-03</td>\n",
       "      <td>Sunday</td>\n",
       "      <td>1</td>\n",
       "    </tr>\n",
       "    <tr>\n",
       "      <th>3</th>\n",
       "      <td>2016-01-04</td>\n",
       "      <td>Monday</td>\n",
       "      <td>0</td>\n",
       "    </tr>\n",
       "    <tr>\n",
       "      <th>4</th>\n",
       "      <td>2016-01-05</td>\n",
       "      <td>Tuesday</td>\n",
       "      <td>0</td>\n",
       "    </tr>\n",
       "  </tbody>\n",
       "</table>\n",
       "</div>"
      ],
      "text/plain": [
       "  calendar_date day_of_week  holiday_flg\n",
       "0    2016-01-01      Friday            1\n",
       "1    2016-01-02    Saturday            1\n",
       "2    2016-01-03      Sunday            1\n",
       "3    2016-01-04      Monday            0\n",
       "4    2016-01-05     Tuesday            0"
      ]
     },
     "execution_count": 85,
     "metadata": {},
     "output_type": "execute_result"
    }
   ],
   "source": [
    "date_info.head()"
   ]
  },
  {
   "cell_type": "code",
   "execution_count": 87,
   "metadata": {},
   "outputs": [],
   "source": [
    "\n",
    "wkend_holidays = date_info.apply((lambda x:(x.day_of_week=='Sunday' or x.day_of_week=='Saturday') and x.holiday_flg==1), axis=1)\n",
    "date_info.loc[wkend_holidays, 'holiday_flg'] = 0\n",
    "date_info['weight'] = ((date_info.index + 1) / len(date_info)) ** 5  \n",
    "\n",
    "visit_data = visit_data.merge(date_info, left_on='visit_date', right_on='calendar_date', how='left')\n",
    "visit_data.drop('calendar_date', axis=1, inplace=True)\n",
    "visit_data['visitors'] = visit_data.visitors.map(pd.np.log1p)\n",
    "\n",
    "wmean = lambda x:( (x.weight * x.visitors).sum() / x.weight.sum() )\n",
    "visitors = visit_data.groupby(['air_store_id', 'day_of_week', 'holiday_flg']).apply(wmean).reset_index()\n",
    "visitors.rename(columns={0:'visitors'}, inplace=True)"
   ]
  },
  {
   "cell_type": "code",
   "execution_count": 88,
   "metadata": {
    "collapsed": true
   },
   "outputs": [],
   "source": [
    "sample_submission['air_store_id'] = sample_submission.id.map(lambda x: '_'.join(x.split('_')[:-1]))\n",
    "sample_submission['calendar_date'] = sample_submission.id.map(lambda x: x.split('_')[2])\n",
    "sample_submission.drop('visitors', axis=1, inplace=True)\n",
    "sample_submission = sample_submission.merge(date_info, on='calendar_date', how='left')\n",
    "sample_submission = sample_submission.merge(visitors, on=['air_store_id', 'day_of_week', 'holiday_flg'], how='left')"
   ]
  },
  {
   "cell_type": "code",
   "execution_count": 89,
   "metadata": {
    "collapsed": true
   },
   "outputs": [],
   "source": [
    "missings = sample_submission.visitors.isnull()\n",
    "sample_submission.loc[missings, 'visitors'] = sample_submission[missings].merge(visitors[visitors.holiday_flg==0], on=('air_store_id', 'day_of_week'),how='left')['visitors_y'].values\n",
    "\n",
    "missings = sample_submission.visitors.isnull()\n",
    "sample_submission.loc[missings, 'visitors'] = sample_submission[missings].merge(visitors[['air_store_id', 'visitors']].groupby('air_store_id').mean().reset_index(), on='air_store_id', how='left')['visitors_y'].values"
   ]
  },
  {
   "cell_type": "code",
   "execution_count": 90,
   "metadata": {
    "collapsed": true
   },
   "outputs": [],
   "source": [
    "sample_submission['visitors'] = sample_submission.visitors.map(pd.np.expm1)\n",
    "sub2 = sample_submission[['id', 'visitors']].copy()\n",
    "sub_merge = pd.merge(sub1, sub2, on='id', how='inner')"
   ]
  },
  {
   "cell_type": "code",
   "execution_count": 91,
   "metadata": {
    "collapsed": true
   },
   "outputs": [],
   "source": [
    "sub_merge['visitors'] = 0.6*sub_merge['visitors_x'] + 0.4*sub_merge['visitors_y']* 1.1\n",
    "sub_merge[['id', 'visitors']].to_csv('submission3.csv', index=False)"
   ]
  }
 ],
 "metadata": {
  "kernelspec": {
   "display_name": "Python 3",
   "language": "python",
   "name": "python3"
  },
  "language_info": {
   "codemirror_mode": {
    "name": "ipython",
    "version": 3
   },
   "file_extension": ".py",
   "mimetype": "text/x-python",
   "name": "python",
   "nbconvert_exporter": "python",
   "pygments_lexer": "ipython3",
   "version": "3.6.3"
  }
 },
 "nbformat": 4,
 "nbformat_minor": 2
}
